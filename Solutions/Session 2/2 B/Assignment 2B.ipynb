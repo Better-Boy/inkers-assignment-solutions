{
 "cells": [
  {
   "cell_type": "code",
   "execution_count": 1,
   "metadata": {},
   "outputs": [],
   "source": [
    "import numpy as np\n",
    "import matplotlib.pyplot as plt\n",
    "%matplotlib inline"
   ]
  },
  {
   "cell_type": "code",
   "execution_count": 2,
   "metadata": {},
   "outputs": [],
   "source": [
    "np.random.seed(100)"
   ]
  },
  {
   "cell_type": "markdown",
   "metadata": {},
   "source": [
    "### Step 0 : Define the inputs"
   ]
  },
  {
   "cell_type": "code",
   "execution_count": 3,
   "metadata": {},
   "outputs": [],
   "source": [
    "def initialize_input_matrices(m,n):\n",
    "    X = np.random.rand(m*n).reshape([m,n])\n",
    "    Y = np.random.randint(low=0,high=2,size=m,dtype='int')\n",
    "    return X,Y"
   ]
  },
  {
   "cell_type": "code",
   "execution_count": 4,
   "metadata": {},
   "outputs": [],
   "source": [
    "def step_0():\n",
    "    print('Give the dimensions of the input matrix X.',end=\" \")\n",
    "    print('Random Numbers will filled in the matrix of dimension of your choice')\n",
    "    l = [int(x) for x in input('Number of rows x Number of columns (mxn) ').split(' ')]\n",
    "    X, Y = initialize_input_matrices(l[0],l[1])\n",
    "    return X, Y"
   ]
  },
  {
   "cell_type": "markdown",
   "metadata": {},
   "source": [
    "### Step 1 : Initialize the weights and biases with random values"
   ]
  },
  {
   "cell_type": "code",
   "execution_count": 5,
   "metadata": {},
   "outputs": [],
   "source": [
    "def step_1(m,n):\n",
    "    wh = np.random.rand(m*n).reshape([n,m])\n",
    "    bh = np.random.rand(m)\n",
    "    wout = np.random.rand(m)\n",
    "    bout = np.random.rand(1)\n",
    "    return wh,bh,wout,bout"
   ]
  },
  {
   "cell_type": "markdown",
   "metadata": {},
   "source": [
    "### Step 2 : Calculate hidden layer input"
   ]
  },
  {
   "cell_type": "code",
   "execution_count": 6,
   "metadata": {},
   "outputs": [],
   "source": [
    "def step_2(X,wh,bh):\n",
    "    return np.dot(X,wh) + bh"
   ]
  },
  {
   "cell_type": "markdown",
   "metadata": {},
   "source": [
    "### Step 3 : Perform non-linear transformation"
   ]
  },
  {
   "cell_type": "code",
   "execution_count": 7,
   "metadata": {},
   "outputs": [],
   "source": [
    "def sigmoid(z):\n",
    "    return 1/(1+np.exp(-z))"
   ]
  },
  {
   "cell_type": "code",
   "execution_count": 8,
   "metadata": {},
   "outputs": [],
   "source": [
    "def derivative_sigmoid(z):\n",
    "#     return sigmoid(z) * (1-sigmoid(z)) # This is the original derivative\n",
    "    return z*(1-z)"
   ]
  },
  {
   "cell_type": "code",
   "execution_count": 9,
   "metadata": {},
   "outputs": [],
   "source": [
    "def relu(z):\n",
    "    return np.maximum(z,0)"
   ]
  },
  {
   "cell_type": "code",
   "execution_count": 10,
   "metadata": {},
   "outputs": [],
   "source": [
    "def derivative_relu(z):\n",
    "    return z * (1-z)"
   ]
  },
  {
   "cell_type": "markdown",
   "metadata": {},
   "source": [
    "### Step 4 : Perform linear and non-linear transformation of hidden layer activation at output layer"
   ]
  },
  {
   "cell_type": "code",
   "execution_count": 11,
   "metadata": {},
   "outputs": [],
   "source": [
    "def step_4(hiddenlayer_activations,wout,bout):\n",
    "    temp = np.dot(hiddenlayer_activations, np.transpose(wout))+np.transpose(bout)\n",
    "    return sigmoid(temp)"
   ]
  },
  {
   "cell_type": "markdown",
   "metadata": {},
   "source": [
    "### Step 5 : Calculate gradient of Error(E) at output layer"
   ]
  },
  {
   "cell_type": "code",
   "execution_count": 12,
   "metadata": {},
   "outputs": [],
   "source": [
    "def step_5(output,Y):\n",
    "    return Y-output"
   ]
  },
  {
   "cell_type": "markdown",
   "metadata": {},
   "source": [
    "### Step 6 : Compute slope at output and hidden layer"
   ]
  },
  {
   "cell_type": "code",
   "execution_count": 13,
   "metadata": {},
   "outputs": [],
   "source": [
    "def step_6(output,hiddenlayer_activations):\n",
    "    slope_output_layer = derivative_sigmoid(output)\n",
    "    slope_hidden_layer = derivative_sigmoid(hiddenlayer_activations)\n",
    "    return slope_output_layer, slope_hidden_layer"
   ]
  },
  {
   "cell_type": "markdown",
   "metadata": {},
   "source": [
    "### Step 7 : Compute delta at output layer"
   ]
  },
  {
   "cell_type": "code",
   "execution_count": 14,
   "metadata": {},
   "outputs": [],
   "source": [
    "def step_7(E, slope_output_layer, lr):\n",
    "    return E * slope_output_layer * lr"
   ]
  },
  {
   "cell_type": "markdown",
   "metadata": {},
   "source": [
    "### Step 8 : Calculate Error at hidden layer"
   ]
  },
  {
   "cell_type": "code",
   "execution_count": 15,
   "metadata": {},
   "outputs": [],
   "source": [
    "def step_8(d_output,wout):\n",
    "    return np.dot(d_output, np.transpose(wout))"
   ]
  },
  {
   "cell_type": "markdown",
   "metadata": {},
   "source": [
    "### Step 9: Compute delta at hidden layer"
   ]
  },
  {
   "cell_type": "code",
   "execution_count": 16,
   "metadata": {},
   "outputs": [],
   "source": [
    "def step_9(Error_at_hidden_layer, slope_hidden_layer):\n",
    "    return np.dot(Error_at_hidden_layer,slope_hidden_layer)"
   ]
  },
  {
   "cell_type": "markdown",
   "metadata": {},
   "source": [
    "### Step 10: Update weight at both output and hidden layer"
   ]
  },
  {
   "cell_type": "code",
   "execution_count": 17,
   "metadata": {},
   "outputs": [],
   "source": [
    "def step_10(hiddenlayer_activations, d_output,lr,wout,wh,X,d_hiddenlayer):\n",
    "    wout += np.dot(np.transpose(hiddenlayer_activations),d_output) * lr\n",
    "    wh += np.dot(np.transpose(X),d_hiddenlayer)*lr\n",
    "    return wout, wh"
   ]
  },
  {
   "cell_type": "markdown",
   "metadata": {},
   "source": [
    "### Step 11: Update biases at both output and hidden layer"
   ]
  },
  {
   "cell_type": "code",
   "execution_count": 18,
   "metadata": {},
   "outputs": [],
   "source": [
    "def step_11(bh,bout,d_hiddenlayer,d_output,lr):\n",
    "    bout += np.sum(d_output,axis=0)*lr\n",
    "    bh += np.sum(d_hiddenlayer,axis=0)*lr\n",
    "    return bout,bh"
   ]
  },
  {
   "cell_type": "markdown",
   "metadata": {},
   "source": [
    "### Combining all the steps"
   ]
  },
  {
   "cell_type": "code",
   "execution_count": 26,
   "metadata": {},
   "outputs": [],
   "source": [
    "def main():\n",
    "    lr = 0.1\n",
    "    X, Y = step_0()\n",
    "    wh, bh, wout, bout = step_1(X.shape[0],X.shape[1])\n",
    "    hidden_layer_input = step_2(X,wh,bh)\n",
    "    hiddenlayer_activations = sigmoid(hidden_layer_input)\n",
    "    output = step_4(hiddenlayer_activations,wout,bout)\n",
    "    E = step_5(output,Y)\n",
    "    slope_output_layer, slope_hidden_layer = step_6(output, hiddenlayer_activations)\n",
    "    d_output = step_7(E,slope_output_layer,lr)\n",
    "    Error_at_hidden_layer = step_8(d_output,wout)\n",
    "    d_hiddenlayer = step_9(Error_at_hidden_layer, slope_hidden_layer)\n",
    "    wout, wh = step_10(hiddenlayer_activations,d_output,lr, wout,wh,X,d_hiddenlayer)\n",
    "    bout,bh = step_11(bh,bout,d_hiddenlayer,d_output,lr)\n",
    "    print('wh')\n",
    "    print(wh)\n",
    "    print('bh')\n",
    "    print(bh)\n",
    "    print('wout')\n",
    "    print(wout)\n",
    "    print('bout')\n",
    "    print(bout)\n",
    "    print('Error')\n",
    "    print(E)"
   ]
  },
  {
   "cell_type": "code",
   "execution_count": 27,
   "metadata": {},
   "outputs": [
    {
     "name": "stdout",
     "output_type": "stream",
     "text": [
      "Give the dimensions of the input matrix X. Random Numbers will filled in the matrix of dimension of your choice\n",
      "Number of rows x Number of columns (mxn) 3 4\n",
      "wh\n",
      "[[0.95671663 0.17558474 0.11818244]\n",
      " [0.8627734  0.07461433 0.82499155]\n",
      " [0.8360824  0.07533068 0.01135555]\n",
      " [0.04828506 0.3569189  0.6656136 ]]\n",
      "bh\n",
      "[0.01109074 0.10750719 0.90079875]\n",
      "wout\n",
      "[0.79437494 0.8110745  0.63977609]\n",
      "bout\n",
      "[0.62408049]\n",
      "Error\n",
      "[ 0.0947468  -0.89509602  0.08093376]\n"
     ]
    }
   ],
   "source": [
    "main()"
   ]
  },
  {
   "cell_type": "code",
   "execution_count": 28,
   "metadata": {},
   "outputs": [],
   "source": [
    "def with_epochs(num_epochs):\n",
    "    lr = 0.1\n",
    "    X, Y = step_0()\n",
    "    wh, bh, wout, bout = step_1(X.shape[0],X.shape[1])\n",
    "    \n",
    "    for i in range(num_epochs):\n",
    "        hidden_layer_input = step_2(X,wh,bh)\n",
    "        hiddenlayer_activations = sigmoid(hidden_layer_input)\n",
    "        output = step_4(hiddenlayer_activations,wout,bout)\n",
    "        E = step_5(output,Y)\n",
    "\n",
    "        \n",
    "        slope_output_layer, slope_hidden_layer = step_6(output, hiddenlayer_activations)\n",
    "        d_output = step_7(E,slope_output_layer,lr)\n",
    "        Error_at_hidden_layer = step_8(d_output,wout)\n",
    "        d_hiddenlayer = step_9(Error_at_hidden_layer, slope_hidden_layer)\n",
    "        wout, wh = step_10(hiddenlayer_activations,d_output,lr, wout,wh,X,d_hiddenlayer)\n",
    "        bout,bh = step_11(bh,bout,d_hiddenlayer,d_output,lr)\n",
    "    \n",
    "    print('After ' + str(i) + ' number of epochs')\n",
    "    print('wh')\n",
    "    print(wh)\n",
    "    print('bh')\n",
    "    print(bh)\n",
    "    print('wout')\n",
    "    print(wout)\n",
    "    print('bout')\n",
    "    print(bout)\n",
    "    print('Error')\n",
    "    print(E)"
   ]
  },
  {
   "cell_type": "code",
   "execution_count": null,
   "metadata": {},
   "outputs": [
    {
     "name": "stdout",
     "output_type": "stream",
     "text": [
      "Give the dimensions of the input matrix X. Random Numbers will filled in the matrix of dimension of your choice\n"
     ]
    }
   ],
   "source": [
    "with_epochs(5)"
   ]
  },
  {
   "cell_type": "code",
   "execution_count": null,
   "metadata": {},
   "outputs": [],
   "source": []
  },
  {
   "cell_type": "code",
   "execution_count": null,
   "metadata": {},
   "outputs": [],
   "source": []
  }
 ],
 "metadata": {
  "kernelspec": {
   "display_name": "Python 3",
   "language": "python",
   "name": "python3"
  },
  "language_info": {
   "codemirror_mode": {
    "name": "ipython",
    "version": 3
   },
   "file_extension": ".py",
   "mimetype": "text/x-python",
   "name": "python",
   "nbconvert_exporter": "python",
   "pygments_lexer": "ipython3",
   "version": "3.6.4"
  }
 },
 "nbformat": 4,
 "nbformat_minor": 2
}
