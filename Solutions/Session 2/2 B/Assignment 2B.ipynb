{
 "cells": [
  {
   "cell_type": "code",
   "execution_count": 1,
   "metadata": {},
   "outputs": [],
   "source": [
    "import numpy as np\n",
    "import matplotlib.pyplot as plt\n",
    "%matplotlib inline"
   ]
  },
  {
   "cell_type": "code",
   "execution_count": 2,
   "metadata": {},
   "outputs": [],
   "source": [
    "np.random.seed(100)"
   ]
  },
  {
   "cell_type": "markdown",
   "metadata": {},
   "source": [
    "### Step 0 : Define the inputs"
   ]
  },
  {
   "cell_type": "code",
   "execution_count": 3,
   "metadata": {},
   "outputs": [],
   "source": [
    "def initialize_input_matrices(m,n):\n",
    "    X = np.random.rand(m*n).reshape([m,n])\n",
    "    Y = np.random.randint(low=0,high=2,size=m,dtype='int')\n",
    "    return X,Y"
   ]
  },
  {
   "cell_type": "code",
   "execution_count": 4,
   "metadata": {},
   "outputs": [],
   "source": [
    "def step_0():\n",
    "    print('Give the dimensions of the input matrix X.',end=\" \")\n",
    "    print('Random Numbers will filled in the matrix of dimension of your choice')\n",
    "    l = [int(x) for x in input('Number of rows x Number of columns (mxn) ').split(' ')]\n",
    "    X, Y = initialize_input_matrices(l[0],l[1])\n",
    "    return X, Y"
   ]
  },
  {
   "cell_type": "markdown",
   "metadata": {},
   "source": [
    "### Step 1 : Initialize the weights and biases with random values"
   ]
  },
  {
   "cell_type": "code",
   "execution_count": 5,
   "metadata": {},
   "outputs": [],
   "source": [
    "def step_1(m,n):\n",
    "    wh = np.random.rand(m*n).reshape([n,m])\n",
    "    bh = np.random.rand(m)\n",
    "    wout = np.random.rand(m)\n",
    "    bout = np.random.rand(1)\n",
    "    return wh,bh,wout,bout"
   ]
  },
  {
   "cell_type": "markdown",
   "metadata": {},
   "source": [
    "### Step 2 : Calculate hidden layer input"
   ]
  },
  {
   "cell_type": "code",
   "execution_count": 6,
   "metadata": {},
   "outputs": [],
   "source": [
    "def step_2(X,wh,bh):\n",
    "    return np.dot(X,wh) + bh"
   ]
  },
  {
   "cell_type": "markdown",
   "metadata": {},
   "source": [
    "### Step 3 : Perform non-linear transformation"
   ]
  },
  {
   "cell_type": "code",
   "execution_count": 7,
   "metadata": {},
   "outputs": [],
   "source": [
    "def sigmoid(z):\n",
    "    return 1/(1+np.exp(-z))"
   ]
  },
  {
   "cell_type": "code",
   "execution_count": 8,
   "metadata": {},
   "outputs": [],
   "source": [
    "def derivative_sigmoid(z):\n",
    "#     return sigmoid(z) * (1-sigmoid(z)) # This is the original derivative\n",
    "    return z*(1-z)"
   ]
  },
  {
   "cell_type": "code",
   "execution_count": 9,
   "metadata": {},
   "outputs": [],
   "source": [
    "def relu(z):\n",
    "    return np.maximum(z,0)"
   ]
  },
  {
   "cell_type": "code",
   "execution_count": 10,
   "metadata": {},
   "outputs": [],
   "source": [
    "def derivative_relu(z):\n",
    "    return z * (1-z)"
   ]
  },
  {
   "cell_type": "markdown",
   "metadata": {},
   "source": [
    "### Step 4 : Perform linear and non-linear transformation of hidden layer activation at output layer"
   ]
  },
  {
   "cell_type": "code",
   "execution_count": 11,
   "metadata": {},
   "outputs": [],
   "source": [
    "def step_4(hiddenlayer_activations,wout,bout):\n",
    "    temp = np.dot(hiddenlayer_activations, np.transpose(wout))+np.transpose(bout)\n",
    "    return sigmoid(temp)"
   ]
  },
  {
   "cell_type": "markdown",
   "metadata": {},
   "source": [
    "### Step 5 : Calculate gradient of Error(E) at output layer"
   ]
  },
  {
   "cell_type": "code",
   "execution_count": 12,
   "metadata": {},
   "outputs": [],
   "source": [
    "def step_5(output,Y):\n",
    "    return Y-output"
   ]
  },
  {
   "cell_type": "markdown",
   "metadata": {},
   "source": [
    "### Step 6 : Compute slope at output and hidden layer"
   ]
  },
  {
   "cell_type": "code",
   "execution_count": 13,
   "metadata": {},
   "outputs": [],
   "source": [
    "def step_6(output,hiddenlayer_activations):\n",
    "    slope_output_layer = derivative_sigmoid(output)\n",
    "    slope_hidden_layer = derivative_sigmoid(hiddenlayer_activations)\n",
    "    return slope_output_layer, slope_hidden_layer"
   ]
  },
  {
   "cell_type": "markdown",
   "metadata": {},
   "source": [
    "### Step 7 : Compute delta at output layer"
   ]
  },
  {
   "cell_type": "code",
   "execution_count": 14,
   "metadata": {},
   "outputs": [],
   "source": [
    "def step_7(E, slope_output_layer, lr):\n",
    "    return E * slope_output_layer * lr"
   ]
  },
  {
   "cell_type": "markdown",
   "metadata": {},
   "source": [
    "### Step 8 : Calculate Error at hidden layer"
   ]
  },
  {
   "cell_type": "code",
   "execution_count": 15,
   "metadata": {},
   "outputs": [],
   "source": [
    "def step_8(d_output,wout):\n",
    "    return np.dot(d_output, np.transpose(wout))"
   ]
  },
  {
   "cell_type": "markdown",
   "metadata": {},
   "source": [
    "### Step 9: Compute delta at hidden layer"
   ]
  },
  {
   "cell_type": "code",
   "execution_count": 16,
   "metadata": {},
   "outputs": [],
   "source": [
    "def step_9(Error_at_hidden_layer, slope_hidden_layer):\n",
    "    return np.dot(Error_at_hidden_layer,slope_hidden_layer)"
   ]
  },
  {
   "cell_type": "markdown",
   "metadata": {},
   "source": [
    "### Step 10: Update weight at both output and hidden layer"
   ]
  },
  {
   "cell_type": "code",
   "execution_count": 17,
   "metadata": {},
   "outputs": [],
   "source": [
    "def step_10(hiddenlayer_activations, d_output,lr,wout,wh,X,d_hiddenlayer):\n",
    "    wout += np.dot(np.transpose(hiddenlayer_activations),d_output) * lr\n",
    "    wh += np.dot(np.transpose(X),d_hiddenlayer)*lr\n",
    "    return wout, wh"
   ]
  },
  {
   "cell_type": "markdown",
   "metadata": {},
   "source": [
    "### Step 11: Update biases at both output and hidden layer"
   ]
  },
  {
   "cell_type": "code",
   "execution_count": 18,
   "metadata": {},
   "outputs": [],
   "source": [
    "def step_11(bh,bout,d_hiddenlayer,d_output,lr):\n",
    "    bout += np.sum(d_output,axis=0)*lr\n",
    "    bh += np.sum(d_hiddenlayer,axis=0)*lr\n",
    "    return bout,bh"
   ]
  },
  {
   "cell_type": "markdown",
   "metadata": {},
   "source": [
    "### Combining all the steps"
   ]
  },
  {
   "cell_type": "code",
   "execution_count": 19,
   "metadata": {},
   "outputs": [],
   "source": [
    "def main():\n",
    "    lr = 0.1\n",
    "    X, Y = step_0()\n",
    "    wh, bh, wout, bout = step_1(X.shape[0],X.shape[1])\n",
    "    hidden_layer_input = step_2(X,wh,bh)\n",
    "    hiddenlayer_activations = sigmoid(hidden_layer_input)\n",
    "    output = step_4(hiddenlayer_activations,wout,bout)\n",
    "    E = step_5(output,Y)\n",
    "    slope_output_layer, slope_hidden_layer = step_6(output, hiddenlayer_activations)\n",
    "    d_output = step_7(E,slope_output_layer,lr)\n",
    "    Error_at_hidden_layer = step_8(d_output,wout)\n",
    "    d_hiddenlayer = step_9(Error_at_hidden_layer, slope_hidden_layer)\n",
    "    wout, wh = step_10(hiddenlayer_activations,d_output,lr, wout,wh,X,d_hiddenlayer)\n",
    "    bout,bh = step_11(bh,bout,d_hiddenlayer,d_output,lr)\n",
    "    print('X')\n",
    "    print(X)\n",
    "    print(\"Y\")\n",
    "    print(Y)\n",
    "    print('wh')\n",
    "    print(wh)\n",
    "    print('bh')\n",
    "    print(bh)\n",
    "    print('wout')\n",
    "    print(wout)\n",
    "    print('bout')\n",
    "    print(bout)\n",
    "    print('Error')\n",
    "    print(E)\n",
    "    print('hidden_layer_input')\n",
    "    print(hidden_layer_input)\n",
    "    print('hiddenlayer_activations')\n",
    "    print(hiddenlayer_activations)\n",
    "    print('output')\n",
    "    print(output)\n",
    "    print('Slope_output_layer')\n",
    "    print(slope_output_layer)\n",
    "    print('Slope_hidden_layer')\n",
    "    print(slope_hidden_layer)\n",
    "    print('Error_at_hidden_layer')\n",
    "    print(Error_at_hidden_layer)\n",
    "    print('d_hiddenlayer')\n",
    "    print(d_hiddenlayer)"
   ]
  },
  {
   "cell_type": "code",
   "execution_count": 20,
   "metadata": {},
   "outputs": [
    {
     "name": "stdout",
     "output_type": "stream",
     "text": [
      "Give the dimensions of the input matrix X. Random Numbers will filled in the matrix of dimension of your choice\n",
      "Number of rows x Number of columns (mxn) 3 4\n",
      "X\n",
      "[[0.54340494 0.27836939 0.42451759 0.84477613]\n",
      " [0.00471886 0.12156912 0.67074908 0.82585276]\n",
      " [0.13670659 0.57509333 0.89132195 0.20920212]]\n",
      "Y\n",
      "[0 1 1]\n",
      "wh\n",
      "[[0.00583824 0.30744352 0.95019756]\n",
      " [0.12668557 0.07901659 0.31137475]\n",
      " [0.63244544 0.69941769 0.64201013]\n",
      " [0.92007929 0.29893236 0.5687861 ]]\n",
      "bh\n",
      "[0.17871631 0.53266264 0.64675778]\n",
      "wout\n",
      "[0.14157773 0.58091108 0.47861791]\n",
      "bout\n",
      "[0.38580545]\n",
      "Error\n",
      "[-0.79792504  0.20575068  0.20591191]\n",
      "hidden_layer_input\n",
      "[[1.26271416 1.27099058 2.00268557]\n",
      " [1.37802391 1.25954909 1.58932365]\n",
      " [1.00838588 1.30590541 1.64682526]]\n",
      "hiddenlayer_activations\n",
      "[[0.77949298 0.78091227 0.88107876]\n",
      " [0.79867344 0.77894848 0.83052092]\n",
      " [0.73270415 0.78682718 0.83846151]]\n",
      "output\n",
      "[0.79792504 0.79424932 0.79408809]\n",
      "Slope_output_layer\n",
      "[0.16124067 0.16341734 0.16351219]\n",
      "Slope_hidden_layer\n",
      "[[0.17188367 0.1710883  0.10477898]\n",
      " [0.16079417 0.17218775 0.14075592]\n",
      " [0.19584878 0.16773017 0.1354438 ]]\n",
      "Error_at_hidden_layer\n",
      "0.001740422877834307\n",
      "d_hiddenlayer\n",
      "[[0.00029915 0.00029777 0.00018236]\n",
      " [0.00027985 0.00029968 0.00024497]\n",
      " [0.00034086 0.00029192 0.00023573]]\n"
     ]
    }
   ],
   "source": [
    "main()"
   ]
  },
  {
   "cell_type": "code",
   "execution_count": 21,
   "metadata": {},
   "outputs": [],
   "source": [
    "def with_epochs(num_epochs):\n",
    "    lr = 0.1\n",
    "    X, Y = step_0()\n",
    "    wh, bh, wout, bout = step_1(X.shape[0],X.shape[1])\n",
    "    \n",
    "    for i in range(num_epochs):\n",
    "        hidden_layer_input = step_2(X,wh,bh)\n",
    "        hiddenlayer_activations = sigmoid(hidden_layer_input)\n",
    "        output = step_4(hiddenlayer_activations,wout,bout)\n",
    "        E = step_5(output,Y)\n",
    "\n",
    "        \n",
    "        slope_output_layer, slope_hidden_layer = step_6(output, hiddenlayer_activations)\n",
    "        d_output = step_7(E,slope_output_layer,lr)\n",
    "        Error_at_hidden_layer = step_8(d_output,wout)\n",
    "        d_hiddenlayer = step_9(Error_at_hidden_layer, slope_hidden_layer)\n",
    "        wout, wh = step_10(hiddenlayer_activations,d_output,lr, wout,wh,X,d_hiddenlayer)\n",
    "        bout,bh = step_11(bh,bout,d_hiddenlayer,d_output,lr)\n",
    "    \n",
    "    print('After ' + str(i) + ' number of epochs')\n",
    "    print('wh')\n",
    "    print(wh)\n",
    "    print('bh')\n",
    "    print(bh)\n",
    "    print('wout')\n",
    "    print(wout)\n",
    "    print('bout')\n",
    "    print(bout)\n",
    "    print('Error')\n",
    "    print(E)\n",
    "    print('hidden_layer_input')\n",
    "    print(hidden_layer_input)\n",
    "    print('hiddenlayer_activations')\n",
    "    print(hiddenlayer_activations)\n",
    "    print('output')\n",
    "    print(output)\n",
    "    print('Slope_output_layer')\n",
    "    print(slope_output_layer)\n",
    "    print('Slope_hidden_layer')\n",
    "    print(slope_hidden_layer)\n",
    "    print('Error_at_hidden_layer')\n",
    "    print(Error_at_hidden_layer)\n",
    "    print('d_hiddenlayer')\n",
    "    print(d_hiddenlayer)"
   ]
  },
  {
   "cell_type": "code",
   "execution_count": 22,
   "metadata": {},
   "outputs": [
    {
     "name": "stdout",
     "output_type": "stream",
     "text": [
      "Give the dimensions of the input matrix X. Random Numbers will filled in the matrix of dimension of your choice\n",
      "Number of rows x Number of columns (mxn) 3 4\n",
      "After 4 number of epochs\n",
      "wh\n",
      "[[0.76943692 0.25100514 0.28623503]\n",
      " [0.85256579 0.97516081 0.88502684]\n",
      " [0.35965401 0.59898881 0.35494212]\n",
      " [0.34039293 0.17828602 0.2379152 ]]\n",
      "bh\n",
      "[0.04531884 0.50585718 0.37672344]\n",
      "wout\n",
      "[0.59425353 0.63143551 0.14403283]\n",
      "bout\n",
      "[0.93573781]\n",
      "Error\n",
      "[0.12376908 0.11403006 0.1209084 ]\n",
      "hidden_layer_input\n",
      "[[0.89847602 1.28125808 1.02501036]\n",
      " [1.42915498 1.56034951 1.34743563]\n",
      " [1.26756635 1.14201759 1.05331393]]\n",
      "hiddenlayer_activations\n",
      "[[0.71063622 0.78266385 0.73594741]\n",
      " [0.80676962 0.8264035  0.79371007]\n",
      " [0.78032586 0.75804988 0.74141076]]\n",
      "output\n",
      "[0.87623092 0.88596994 0.8790916 ]\n",
      "Slope_output_layer\n",
      "[0.10845029 0.1010272  0.10628956]\n",
      "Slope_hidden_layer\n",
      "[[0.20563238 0.17010115 0.19432882]\n",
      " [0.1558924  0.14346076 0.1637344 ]\n",
      " [0.17141741 0.18341026 0.19172085]]\n",
      "Error_at_hidden_layer\n",
      "0.0017090803456094616\n",
      "d_hiddenlayer\n",
      "[[0.00035144 0.00029072 0.00033212]\n",
      " [0.00026643 0.00024519 0.00027984]\n",
      " [0.00029297 0.00031346 0.00032767]]\n"
     ]
    }
   ],
   "source": [
    "with_epochs(5)"
   ]
  },
  {
   "cell_type": "code",
   "execution_count": null,
   "metadata": {},
   "outputs": [],
   "source": []
  }
 ],
 "metadata": {
  "kernelspec": {
   "display_name": "Python 3",
   "language": "python",
   "name": "python3"
  },
  "language_info": {
   "codemirror_mode": {
    "name": "ipython",
    "version": 3
   },
   "file_extension": ".py",
   "mimetype": "text/x-python",
   "name": "python",
   "nbconvert_exporter": "python",
   "pygments_lexer": "ipython3",
   "version": "3.6.4"
  }
 },
 "nbformat": 4,
 "nbformat_minor": 2
}
