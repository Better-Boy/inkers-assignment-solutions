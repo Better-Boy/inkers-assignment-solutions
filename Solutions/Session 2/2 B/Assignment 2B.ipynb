{
 "cells": [
  {
   "cell_type": "code",
   "execution_count": 1,
   "metadata": {},
   "outputs": [],
   "source": [
    "import numpy as np\n",
    "import matplotlib.pyplot as plt\n",
    "%matplotlib inline"
   ]
  },
  {
   "cell_type": "code",
   "execution_count": 2,
   "metadata": {},
   "outputs": [],
   "source": [
    "np.random.seed(100)"
   ]
  },
  {
   "cell_type": "markdown",
   "metadata": {},
   "source": [
    "### Step 0 : Define the inputs"
   ]
  },
  {
   "cell_type": "code",
   "execution_count": 3,
   "metadata": {},
   "outputs": [],
   "source": [
    "def initialize_input_matrices(m,n):\n",
    "    X = np.random.rand(m*n).reshape([m,n])\n",
    "    Y = np.random.randint(low=0,high=2,size=m,dtype='int')\n",
    "    return X,Y"
   ]
  },
  {
   "cell_type": "code",
   "execution_count": 4,
   "metadata": {},
   "outputs": [],
   "source": [
    "def step_0():\n",
    "    print('Give the dimensions of the input matrix X.',end=\" \")\n",
    "    print('Random Numbers will filled in the matrix of dimension of your choice')\n",
    "    l = [int(x) for x in input('Number of rows x Number of columns (mxn) ').split(' ')]\n",
    "    X, Y = initialize_input_matrices(l[0],l[1])\n",
    "    return X, Y"
   ]
  },
  {
   "cell_type": "markdown",
   "metadata": {},
   "source": [
    "### Step 1 : Initialize the weights and biases with random values"
   ]
  },
  {
   "cell_type": "code",
   "execution_count": 5,
   "metadata": {},
   "outputs": [],
   "source": [
    "def step_1(m,n):\n",
    "    wh = np.random.rand(m*n).reshape([n,m])\n",
    "    bh = np.random.rand(m)\n",
    "    wout = np.random.rand(m)\n",
    "    bout = np.random.rand(1)\n",
    "    return wh,bh,wout,bout"
   ]
  },
  {
   "cell_type": "markdown",
   "metadata": {},
   "source": [
    "### Step 2 : Calculate hidden layer input"
   ]
  },
  {
   "cell_type": "code",
   "execution_count": 6,
   "metadata": {},
   "outputs": [],
   "source": [
    "def step_2(X,wh,bh):\n",
    "    return np.dot(X,wh) + bh"
   ]
  },
  {
   "cell_type": "markdown",
   "metadata": {},
   "source": [
    "### Step 3 : Perform non-linear transformation"
   ]
  },
  {
   "cell_type": "code",
   "execution_count": 7,
   "metadata": {},
   "outputs": [],
   "source": [
    "def sigmoid(z):\n",
    "    return 1/(1+np.exp(-z))"
   ]
  },
  {
   "cell_type": "code",
   "execution_count": 8,
   "metadata": {},
   "outputs": [],
   "source": [
    "def derivative_sigmoid(z):\n",
    "#     return sigmoid(z) * (1-sigmoid(z)) # This is the original derivative\n",
    "    return z*(1-z)"
   ]
  },
  {
   "cell_type": "code",
   "execution_count": 9,
   "metadata": {},
   "outputs": [],
   "source": [
    "def relu(z):\n",
    "    return np.maximum(z,0)"
   ]
  },
  {
   "cell_type": "code",
   "execution_count": 10,
   "metadata": {},
   "outputs": [],
   "source": [
    "def derivative_relu(z):\n",
    "    return z * (1-z)"
   ]
  },
  {
   "cell_type": "markdown",
   "metadata": {},
   "source": [
    "### Step 4 : Perform linear and non-linear transformation of hidden layer activation at output layer"
   ]
  },
  {
   "cell_type": "code",
   "execution_count": 11,
   "metadata": {},
   "outputs": [],
   "source": [
    "def step_4(hiddenlayer_activations,wout,bout):\n",
    "    temp = np.dot(hiddenlayer_activations, np.transpose(wout))+np.transpose(bout)\n",
    "    return sigmoid(temp)"
   ]
  },
  {
   "cell_type": "markdown",
   "metadata": {},
   "source": [
    "### Step 5 : Calculate gradient of Error(E) at output layer"
   ]
  },
  {
   "cell_type": "code",
   "execution_count": 12,
   "metadata": {},
   "outputs": [],
   "source": [
    "def step_5(output,Y):\n",
    "    return Y-output"
   ]
  },
  {
   "cell_type": "markdown",
   "metadata": {},
   "source": [
    "### Step 6 : Compute slope at output and hidden layer"
   ]
  },
  {
   "cell_type": "code",
   "execution_count": 13,
   "metadata": {},
   "outputs": [],
   "source": [
    "def step_6(output,hiddenlayer_activations):\n",
    "    slope_output_layer = derivative_sigmoid(output)\n",
    "    slope_hidden_layer = derivative_sigmoid(hiddenlayer_activations)\n",
    "    return slope_output_layer, slope_hidden_layer"
   ]
  },
  {
   "cell_type": "markdown",
   "metadata": {},
   "source": [
    "### Step 7 : Compute delta at output layer"
   ]
  },
  {
   "cell_type": "code",
   "execution_count": 14,
   "metadata": {},
   "outputs": [],
   "source": [
    "def step_7(E, slope_output_layer, lr):\n",
    "    return E * slope_output_layer * lr"
   ]
  },
  {
   "cell_type": "markdown",
   "metadata": {},
   "source": [
    "### Step 8 : Calculate Error at hidden layer"
   ]
  },
  {
   "cell_type": "code",
   "execution_count": 15,
   "metadata": {},
   "outputs": [],
   "source": [
    "def step_8(d_output,wout):\n",
    "    return np.dot(d_output, np.transpose(wout))"
   ]
  },
  {
   "cell_type": "markdown",
   "metadata": {},
   "source": [
    "### Step 9: Compute delta at hidden layer"
   ]
  },
  {
   "cell_type": "code",
   "execution_count": 16,
   "metadata": {},
   "outputs": [],
   "source": [
    "def step_9(Error_at_hidden_layer, slope_hidden_layer):\n",
    "    return np.dot(Error_at_hidden_layer,slope_hidden_layer)"
   ]
  },
  {
   "cell_type": "markdown",
   "metadata": {},
   "source": [
    "### Step 10: Update weight at both output and hidden layer"
   ]
  },
  {
   "cell_type": "code",
   "execution_count": 17,
   "metadata": {},
   "outputs": [],
   "source": [
    "def step_10(hiddenlayer_activations, d_output,lr,wout,wh,X,d_hiddenlayer):\n",
    "    wout += np.dot(np.transpose(hiddenlayer_activations),d_output) * lr\n",
    "    wh += np.dot(np.transpose(X),d_hiddenlayer)*lr\n",
    "    return wout, wh"
   ]
  },
  {
   "cell_type": "markdown",
   "metadata": {},
   "source": [
    "### Step 11: Update biases at both output and hidden layer"
   ]
  },
  {
   "cell_type": "code",
   "execution_count": 18,
   "metadata": {},
   "outputs": [],
   "source": [
    "def step_11(bh,bout,d_hiddenlayer,d_output,lr):\n",
    "    bout += np.sum(d_output,axis=0)*lr\n",
    "    bh += np.sum(d_hiddenlayer,axis=0)*lr\n",
    "    return bout,bh"
   ]
  },
  {
   "cell_type": "markdown",
   "metadata": {},
   "source": [
    "### Combining all the steps"
   ]
  },
  {
   "cell_type": "code",
   "execution_count": 28,
   "metadata": {},
   "outputs": [],
   "source": [
    "def main():\n",
    "    lr = 0.1\n",
    "    X, Y = step_0()\n",
    "    wh, bh, wout, bout = step_1(X.shape[0],X.shape[1])\n",
    "    hidden_layer_input = step_2(X,wh,bh)\n",
    "    hiddenlayer_activations = sigmoid(hidden_layer_input)\n",
    "    output = step_4(hiddenlayer_activations,wout,bout)\n",
    "    E = step_5(output,Y)\n",
    "    slope_output_layer, slope_hidden_layer = step_6(output, hiddenlayer_activations)\n",
    "    d_output = step_7(E,slope_output_layer,lr)\n",
    "    Error_at_hidden_layer = step_8(d_output,wout)\n",
    "    d_hiddenlayer = step_9(Error_at_hidden_layer, slope_hidden_layer)\n",
    "    wout, wh = step_10(hiddenlayer_activations,d_output,lr, wout,wh,X,d_hiddenlayer)\n",
    "    bout,bh = step_11(bh,bout,d_hiddenlayer,d_output,lr)\n",
    "    print('X')\n",
    "    print(X)\n",
    "    print(\"Y\")\n",
    "    print(Y)\n",
    "    print('wh')\n",
    "    print(wh)\n",
    "    print('bh')\n",
    "    print(bh)\n",
    "    print('wout')\n",
    "    print(wout)\n",
    "    print('bout')\n",
    "    print(bout)\n",
    "    print('Error')\n",
    "    print(E)\n",
    "    print('hidden_layer_input')\n",
    "    print(hidden_layer_input)\n",
    "    print('hiddenlayer_activations')\n",
    "    print(hiddenlayer_activations)\n",
    "    print('output')\n",
    "    print(output)\n",
    "    print('Slope_output_layer')\n",
    "    print(slope_output_layer)\n",
    "    print('Slope_hidden_layer')\n",
    "    print(slope_hidden_layer)\n",
    "    print('Error_at_hidden_layer')\n",
    "    print(Error_at_hidden_layer)\n",
    "    print('d_hiddenlayer')\n",
    "    print(d_hiddenlayer)"
   ]
  },
  {
   "cell_type": "code",
   "execution_count": 29,
   "metadata": {},
   "outputs": [
    {
     "name": "stdout",
     "output_type": "stream",
     "text": [
      "Give the dimensions of the input matrix X. Random Numbers will filled in the matrix of dimension of your choice\n",
      "Number of rows x Number of columns (mxn) 3 4\n",
      "X\n",
      "[[0.36074842 0.88001849 0.27454204 0.22458118]\n",
      " [0.81397318 0.05820075 0.73015342 0.03267909]\n",
      " [0.59998723 0.03054111 0.85960489 0.43977952]]\n",
      "Y\n",
      "[1 0 0]\n",
      "wh\n",
      "[[0.1603438  0.92325104 0.95334658]\n",
      " [0.21075889 0.36037527 0.54925085]\n",
      " [0.27141184 0.46034817 0.69595135]\n",
      " [0.50020082 0.71597557 0.52587611]]\n",
      "bh\n",
      "[0.00072272 0.39427774 0.49181674]\n",
      "wout\n",
      "[0.40152795 0.3524513  0.49869426]\n",
      "bout\n",
      "[0.44297097]\n",
      "Error\n",
      "[ 0.19967568 -0.80292389 -0.8077868 ]\n",
      "hidden_layer_input\n",
      "[[0.43205179 1.33238977 1.62886438]\n",
      " [0.35934928 1.52709517 1.82579754]\n",
      " [0.55800062 1.67064619 1.91079176]]\n",
      "hiddenlayer_activations\n",
      "[[0.60636351 0.79123566 0.83601401]\n",
      " [0.5888829  0.82158091 0.86126033]\n",
      " [0.6359898  0.84166196 0.87110807]]\n",
      "output\n",
      "[0.80032432 0.80292389 0.8077868 ]\n",
      "Slope_output_layer\n",
      "[0.1598053  0.15823712 0.15526729]\n",
      "Slope_hidden_layer\n",
      "[[0.2386868  0.16518179 0.13709458]\n",
      " [0.24209983 0.14658572 0.11949097]\n",
      " [0.23150678 0.13326711 0.1122788 ]]\n",
      "Error_at_hidden_layer\n",
      "-0.009494731503779738\n",
      "d_hiddenlayer\n",
      "[[-0.00226627 -0.00156836 -0.00130168]\n",
      " [-0.00229867 -0.00139179 -0.00113453]\n",
      " [-0.00219809 -0.00126534 -0.00106606]]\n"
     ]
    }
   ],
   "source": [
    "main()"
   ]
  },
  {
   "cell_type": "code",
   "execution_count": 30,
   "metadata": {},
   "outputs": [],
   "source": [
    "def with_epochs(num_epochs):\n",
    "    lr = 0.1\n",
    "    X, Y = step_0()\n",
    "    wh, bh, wout, bout = step_1(X.shape[0],X.shape[1])\n",
    "    \n",
    "    for i in range(num_epochs):\n",
    "        hidden_layer_input = step_2(X,wh,bh)\n",
    "        hiddenlayer_activations = sigmoid(hidden_layer_input)\n",
    "        output = step_4(hiddenlayer_activations,wout,bout)\n",
    "        E = step_5(output,Y)\n",
    "\n",
    "        \n",
    "        slope_output_layer, slope_hidden_layer = step_6(output, hiddenlayer_activations)\n",
    "        d_output = step_7(E,slope_output_layer,lr)\n",
    "        Error_at_hidden_layer = step_8(d_output,wout)\n",
    "        d_hiddenlayer = step_9(Error_at_hidden_layer, slope_hidden_layer)\n",
    "        wout, wh = step_10(hiddenlayer_activations,d_output,lr, wout,wh,X,d_hiddenlayer)\n",
    "        bout,bh = step_11(bh,bout,d_hiddenlayer,d_output,lr)\n",
    "    \n",
    "    print('After ' + str(i) + ' number of epochs')\n",
    "    print('wh')\n",
    "    print(wh)\n",
    "    print('bh')\n",
    "    print(bh)\n",
    "    print('wout')\n",
    "    print(wout)\n",
    "    print('bout')\n",
    "    print(bout)\n",
    "    print('Error')\n",
    "    print(E)\n",
    "    print('hidden_layer_input')\n",
    "    print(hidden_layer_input)\n",
    "    print('hiddenlayer_activations')\n",
    "    print(hiddenlayer_activations)\n",
    "    print('output')\n",
    "    print(output)\n",
    "    print('Slope_output_layer')\n",
    "    print(slope_output_layer)\n",
    "    print('Slope_hidden_layer')\n",
    "    print(slope_hidden_layer)\n",
    "    print('Error_at_hidden_layer')\n",
    "    print(Error_at_hidden_layer)\n",
    "    print('d_hiddenlayer')\n",
    "    print(d_hiddenlayer)"
   ]
  },
  {
   "cell_type": "code",
   "execution_count": 31,
   "metadata": {},
   "outputs": [
    {
     "name": "stdout",
     "output_type": "stream",
     "text": [
      "Give the dimensions of the input matrix X. Random Numbers will filled in the matrix of dimension of your choice\n",
      "Number of rows x Number of columns (mxn) 3 4\n",
      "After 4 number of epochs\n",
      "wh\n",
      "[[0.49745415 0.66603194 0.23273927]\n",
      " [0.54928059 0.98773406 0.05353364]\n",
      " [0.61596404 0.11025989 0.46115187]\n",
      " [0.73407413 0.33440243 0.54489917]]\n",
      "bh\n",
      "[0.95092859 0.11093673 0.97998023]\n",
      "wout\n",
      "[0.73563269 0.8422353  0.72596636]\n",
      "bout\n",
      "[0.25462601]\n",
      "Error\n",
      "[ 0.11810617 -0.89380556 -0.90839711]\n",
      "hidden_layer_input\n",
      "[[1.74739451 0.55541514 1.46604144]\n",
      " [2.21309987 0.81411613 1.8138877 ]\n",
      " [2.54649162 1.98868237 1.67808475]]\n",
      "hiddenlayer_activations\n",
      "[[0.85162387 0.63539103 0.81245496]\n",
      " [0.90141973 0.69298593 0.85983108]\n",
      " [0.92733746 0.87960367 0.84265075]]\n",
      "output\n",
      "[0.88189383 0.89380556 0.90839711]\n",
      "Slope_output_layer\n",
      "[0.10415711 0.09491718 0.0832118 ]\n",
      "Slope_hidden_layer\n",
      "[[0.12636065 0.23166927 0.1523719 ]\n",
      " [0.0888622  0.21275643 0.12052159]\n",
      " [0.06738269 0.10590105 0.13259046]]\n",
      "Error_at_hidden_layer\n",
      "-0.011745765857916897\n",
      "d_hiddenlayer\n",
      "[[-0.0014842  -0.00272113 -0.00178972]\n",
      " [-0.00104375 -0.00249899 -0.00141562]\n",
      " [-0.00079146 -0.00124389 -0.00155738]]\n"
     ]
    }
   ],
   "source": [
    "with_epochs(5)"
   ]
  },
  {
   "cell_type": "code",
   "execution_count": null,
   "metadata": {},
   "outputs": [],
   "source": []
  }
 ],
 "metadata": {
  "kernelspec": {
   "display_name": "Python 3",
   "language": "python",
   "name": "python3"
  },
  "language_info": {
   "codemirror_mode": {
    "name": "ipython",
    "version": 3
   },
   "file_extension": ".py",
   "mimetype": "text/x-python",
   "name": "python",
   "nbconvert_exporter": "python",
   "pygments_lexer": "ipython3",
   "version": "3.6.4"
  }
 },
 "nbformat": 4,
 "nbformat_minor": 2
}
