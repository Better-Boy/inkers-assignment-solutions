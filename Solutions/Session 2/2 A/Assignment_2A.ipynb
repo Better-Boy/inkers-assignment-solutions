{
 "cells": [
  {
   "cell_type": "markdown",
   "metadata": {},
   "source": [
    "### Rewritten the whole code "
   ]
  },
  {
   "cell_type": "code",
   "execution_count": 1,
   "metadata": {},
   "outputs": [],
   "source": [
    "def quicksort(eip_list):\n",
    "    if len(eip_list)<=1:\n",
    "        return eip_list\n",
    "    eip_pivot = eip_list[len(eip_list)//2]\n",
    "    eip_left = [eip for eip in eip_list if eip < eip_pivot]\n",
    "    eip_middle = [eip for eip in eip_list if eip == eip_pivot]\n",
    "    eip_right = [eip for eip in eip_list if eip > eip_pivot]\n",
    "    return quicksort(eip_left) + eip_middle + quicksort(eip_right)"
   ]
  },
  {
   "cell_type": "code",
   "execution_count": 2,
   "metadata": {},
   "outputs": [
    {
     "data": {
      "text/plain": [
       "[1, 3, 4, 5]"
      ]
     },
     "execution_count": 2,
     "metadata": {},
     "output_type": "execute_result"
    }
   ],
   "source": [
    "quicksort([3,4,5,1])"
   ]
  },
  {
   "cell_type": "code",
   "execution_count": 3,
   "metadata": {},
   "outputs": [
    {
     "name": "stdout",
     "output_type": "stream",
     "text": [
      "<class 'int'>\n",
      "3\n",
      "4\n",
      "2\n",
      "6\n",
      "9\n",
      "4\n",
      "8\n",
      "<class 'float'>\n",
      "2.5 3.5 5.0 6.25\n"
     ]
    }
   ],
   "source": [
    "eip_in = 3\n",
    "print(type(eip_in))\n",
    "print(eip_in)       \n",
    "print(eip_in + 1)   \n",
    "print(eip_in - 1)   \n",
    "print(eip_in * 2)   \n",
    "print(eip_in ** 2)  \n",
    "eip_in += 1\n",
    "print(eip_in)  \n",
    "eip_in *= 2\n",
    "print(eip_in)  \n",
    "eip_out = 2.5\n",
    "print(type(eip_out)) \n",
    "print(eip_out, eip_out + 1, eip_out * 2, eip_out ** 2)"
   ]
  },
  {
   "cell_type": "code",
   "execution_count": 4,
   "metadata": {},
   "outputs": [
    {
     "name": "stdout",
     "output_type": "stream",
     "text": [
      "<class 'bool'>\n",
      "False\n",
      "True\n",
      "False\n",
      "True\n"
     ]
    }
   ],
   "source": [
    "mlblr_in = True\n",
    "mlblr_out = False\n",
    "print(type(mlblr_in)) \n",
    "print(mlblr_in and mlblr_out) \n",
    "print(mlblr_in or mlblr_out)  \n",
    "print(not mlblr_in)   \n",
    "print(mlblr_in != mlblr_out)  "
   ]
  },
  {
   "cell_type": "code",
   "execution_count": 5,
   "metadata": {},
   "outputs": [
    {
     "name": "stdout",
     "output_type": "stream",
     "text": [
      "hello\n",
      "5\n",
      "hello world\n",
      "hello world 12\n"
     ]
    }
   ],
   "source": [
    "eip = 'hello'    \n",
    "mlblr = \"world\"    \n",
    "print(eip)       \n",
    "print(len(eip))  \n",
    "hw = eip + ' ' + mlblr  \n",
    "print(hw)  \n",
    "eip_in = '%s %s %d' % (eip, mlblr, 12)  \n",
    "print(eip_in)  "
   ]
  },
  {
   "cell_type": "code",
   "execution_count": 6,
   "metadata": {},
   "outputs": [
    {
     "name": "stdout",
     "output_type": "stream",
     "text": [
      "Hello\n",
      "HELLO\n",
      "  hello\n",
      " hello \n",
      "he(ell)(ell)o\n",
      "world\n"
     ]
    }
   ],
   "source": [
    "mlblr = \"hello\"\n",
    "print(mlblr.capitalize())  \n",
    "print(mlblr.upper())       \n",
    "print(mlblr.rjust(7))      \n",
    "print(mlblr.center(7))     \n",
    "print(mlblr.replace('l', '(ell)'))     \n",
    "print('  world '.strip())  "
   ]
  },
  {
   "cell_type": "code",
   "execution_count": 7,
   "metadata": {},
   "outputs": [
    {
     "name": "stdout",
     "output_type": "stream",
     "text": [
      "[3, 1, 2] 2\n",
      "2\n",
      "[3, 1, 'foo']\n",
      "[3, 1, 'foo', 'bar']\n",
      "bar [3, 1, 'foo']\n"
     ]
    }
   ],
   "source": [
    "eip_list = [3, 1, 2]    \n",
    "print(eip_list, eip_list[2])  \n",
    "print(eip_list[-1])     \n",
    "eip_list[2] = 'foo'     \n",
    "print(eip_list)         \n",
    "eip_list.append('bar')  \n",
    "print(eip_list)         \n",
    "eip = eip_list.pop()      \n",
    "print(eip, eip_list)      "
   ]
  },
  {
   "cell_type": "code",
   "execution_count": 8,
   "metadata": {},
   "outputs": [
    {
     "name": "stdout",
     "output_type": "stream",
     "text": [
      "[0, 1, 2, 3, 4]\n",
      "[2, 3]\n",
      "[2, 3, 4]\n",
      "[0, 1]\n",
      "[0, 1, 2, 3, 4]\n",
      "[0, 1, 2, 3]\n",
      "[0, 1, 8, 9, 4]\n"
     ]
    }
   ],
   "source": [
    "eip_list = list(range(5))     \n",
    "print(eip_list)               \n",
    "print(eip_list[2:4])          \n",
    "print(eip_list[2:])           \n",
    "print(eip_list[:2])           \n",
    "print(eip_list[:])            \n",
    "print(eip_list[:-1])          \n",
    "eip_list[2:4] = [8, 9]        \n",
    "print(eip_list)               "
   ]
  },
  {
   "cell_type": "code",
   "execution_count": 9,
   "metadata": {},
   "outputs": [
    {
     "name": "stdout",
     "output_type": "stream",
     "text": [
      "cat\n",
      "dog\n",
      "monkey\n"
     ]
    }
   ],
   "source": [
    "eip_list = ['cat', 'dog', 'monkey']\n",
    "for mlblr_in in eip_list:\n",
    "    print(mlblr_in)"
   ]
  },
  {
   "cell_type": "code",
   "execution_count": 10,
   "metadata": {},
   "outputs": [
    {
     "name": "stdout",
     "output_type": "stream",
     "text": [
      "#1: cat\n",
      "#2: dog\n",
      "#3: monkey\n"
     ]
    }
   ],
   "source": [
    "mlblr = ['cat', 'dog', 'monkey']\n",
    "for eip_in, eip_out in enumerate(mlblr):\n",
    "    print('#%d: %s' % (eip_in + 1, eip_out))"
   ]
  },
  {
   "cell_type": "code",
   "execution_count": 11,
   "metadata": {},
   "outputs": [
    {
     "name": "stdout",
     "output_type": "stream",
     "text": [
      "[0, 1, 4, 9, 16]\n"
     ]
    }
   ],
   "source": [
    "mlblr = [0, 1, 2, 3, 4]\n",
    "eip_list = []\n",
    "for eip in mlblr:\n",
    "    eip_list.append(eip ** 2)\n",
    "print(eip_list)   "
   ]
  },
  {
   "cell_type": "code",
   "execution_count": 12,
   "metadata": {},
   "outputs": [
    {
     "name": "stdout",
     "output_type": "stream",
     "text": [
      "[0, 1, 4, 9, 16]\n"
     ]
    }
   ],
   "source": [
    "mlblr = [0, 1, 2, 3, 4]\n",
    "eip_list = [eip ** 2 for eip in mlblr]\n",
    "print(eip_list)   "
   ]
  },
  {
   "cell_type": "code",
   "execution_count": 13,
   "metadata": {},
   "outputs": [
    {
     "name": "stdout",
     "output_type": "stream",
     "text": [
      "[0, 4, 16]\n"
     ]
    }
   ],
   "source": [
    "eip_in = [0, 1, 2, 3, 4]\n",
    "eip_out = [eip ** 2 for eip in eip_in if eip % 2 == 0]\n",
    "print(eip_out)"
   ]
  },
  {
   "cell_type": "code",
   "execution_count": 14,
   "metadata": {},
   "outputs": [
    {
     "name": "stdout",
     "output_type": "stream",
     "text": [
      "cute\n",
      "True\n",
      "wet\n",
      "N/A\n",
      "wet\n",
      "N/A\n"
     ]
    }
   ],
   "source": [
    "eip_dict = {'cat': 'cute', 'dog': 'furry'}  \n",
    "print(eip_dict['cat'])       \n",
    "print('cat' in eip_dict)     \n",
    "eip_dict['fish'] = 'wet'     \n",
    "print(eip_dict['fish'])      \n",
    "print(eip_dict.get('monkey', 'N/A'))  \n",
    "print(eip_dict.get('fish', 'N/A'))    \n",
    "del eip_dict['fish']         \n",
    "print(eip_dict.get('fish', 'N/A'))"
   ]
  },
  {
   "cell_type": "code",
   "execution_count": 15,
   "metadata": {},
   "outputs": [
    {
     "name": "stdout",
     "output_type": "stream",
     "text": [
      "A person has 2 legs\n",
      "A cat has 4 legs\n",
      "A spider has 8 legs\n"
     ]
    }
   ],
   "source": [
    "eip_dict = {'person': 2, 'cat': 4, 'spider': 8}\n",
    "for eip_in in eip_dict:\n",
    "    legs = eip_dict[eip_in]\n",
    "    print('A %s has %d legs' % (eip_in, legs))"
   ]
  },
  {
   "cell_type": "code",
   "execution_count": 16,
   "metadata": {},
   "outputs": [
    {
     "name": "stdout",
     "output_type": "stream",
     "text": [
      "{0: 0, 2: 4, 4: 16}\n"
     ]
    }
   ],
   "source": [
    "mlblr = [0, 1, 2, 3, 4]\n",
    "mlblr_in = {eip: eip ** 2 for eip in mlblr if eip % 2 == 0}\n",
    "print(mlblr_in)"
   ]
  },
  {
   "cell_type": "code",
   "execution_count": 17,
   "metadata": {},
   "outputs": [
    {
     "name": "stdout",
     "output_type": "stream",
     "text": [
      "True\n",
      "False\n",
      "True\n",
      "3\n",
      "3\n",
      "2\n"
     ]
    }
   ],
   "source": [
    "eip_dict = {'cat', 'dog'}\n",
    "print('cat' in eip_dict)   \n",
    "print('fish' in eip_dict)  \n",
    "eip_dict.add('fish')       \n",
    "print('fish' in eip_dict)  \n",
    "print(len(eip_dict))     \n",
    "eip_dict.add('cat')      \n",
    "print(len(eip_dict))     \n",
    "eip_dict.remove('cat')   \n",
    "print(len(eip_dict))     "
   ]
  },
  {
   "cell_type": "code",
   "execution_count": 18,
   "metadata": {},
   "outputs": [
    {
     "name": "stdout",
     "output_type": "stream",
     "text": [
      "#1: dog\n",
      "#2: cat\n",
      "#3: fish\n"
     ]
    }
   ],
   "source": [
    "eip_dict = {'cat', 'dog', 'fish'}\n",
    "for eip_in, eip_out in enumerate(eip_dict):\n",
    "    print('#%d: %s' % (eip_in + 1, eip_out))"
   ]
  },
  {
   "cell_type": "code",
   "execution_count": 19,
   "metadata": {},
   "outputs": [
    {
     "name": "stdout",
     "output_type": "stream",
     "text": [
      "{0, 1, 2, 3, 4, 5}\n"
     ]
    }
   ],
   "source": [
    "from math import sqrt\n",
    "mlblr_dict = {int(sqrt(eip)) for eip in range(30)}\n",
    "print(mlblr_dict)"
   ]
  },
  {
   "cell_type": "code",
   "execution_count": 20,
   "metadata": {},
   "outputs": [
    {
     "name": "stdout",
     "output_type": "stream",
     "text": [
      "<class 'tuple'>\n",
      "5\n",
      "1\n"
     ]
    }
   ],
   "source": [
    "eip_dict = {(eip, eip + 1): eip for eip in range(10)}  \n",
    "eip_in = (5, 6)        \n",
    "print(type(eip_in))    \n",
    "print(eip_dict[eip_in])       \n",
    "print(eip_dict[(1, 2)])"
   ]
  },
  {
   "cell_type": "code",
   "execution_count": 21,
   "metadata": {},
   "outputs": [
    {
     "name": "stdout",
     "output_type": "stream",
     "text": [
      "negative\n",
      "zero\n",
      "positive\n"
     ]
    }
   ],
   "source": [
    "def sign(eip_in):\n",
    "    if eip_in > 0:\n",
    "        return 'positive'\n",
    "    elif eip_in < 0:\n",
    "        return 'negative'\n",
    "    else:\n",
    "        return 'zero'\n",
    "\n",
    "for eip in [-1, 0, 1]:\n",
    "    print(sign(eip))"
   ]
  },
  {
   "cell_type": "code",
   "execution_count": 22,
   "metadata": {},
   "outputs": [
    {
     "name": "stdout",
     "output_type": "stream",
     "text": [
      "Hello, Bob\n",
      "HELLO, FRED!\n"
     ]
    }
   ],
   "source": [
    "def hello(eip_in, mlblr_in=False):\n",
    "    if mlblr_in:\n",
    "        print('HELLO, %s!' % eip_in.upper())\n",
    "    else:\n",
    "        print('Hello, %s' % eip_in)\n",
    "\n",
    "hello('Bob') # Prints \"Hello, Bob\"\n",
    "hello('Fred', mlblr_in=True)"
   ]
  },
  {
   "cell_type": "code",
   "execution_count": 23,
   "metadata": {},
   "outputs": [
    {
     "name": "stdout",
     "output_type": "stream",
     "text": [
      "Hello, Fred\n",
      "HELLO, FRED!\n"
     ]
    }
   ],
   "source": [
    "class Greeter(object):\n",
    "\n",
    "    def __init__(self, eip_in):\n",
    "        self.eip_in = eip_in\n",
    "\n",
    "    def greet(self, mlblr_in=False):\n",
    "        if mlblr_in:\n",
    "            print('HELLO, %s!' % self.eip_in.upper())\n",
    "        else:\n",
    "            print('Hello, %s' % self.eip_in)\n",
    "\n",
    "g = Greeter('Fred')  \n",
    "g.greet()            \n",
    "g.greet(mlblr_in=True)   "
   ]
  },
  {
   "cell_type": "code",
   "execution_count": 24,
   "metadata": {},
   "outputs": [
    {
     "name": "stdout",
     "output_type": "stream",
     "text": [
      "<class 'numpy.ndarray'>\n",
      "(3,)\n",
      "1 2 3\n",
      "[5 2 3]\n",
      "(2, 3)\n",
      "1 2 4\n"
     ]
    }
   ],
   "source": [
    "import numpy as np\n",
    "\n",
    "eip_in = np.array([1, 2, 3])\n",
    "print(type(eip_in))            \n",
    "print(eip_in.shape)            \n",
    "print(eip_in[0], eip_in[1], eip_in[2])   \n",
    "eip_in[0] = 5                  \n",
    "print(eip_in)                  \n",
    "\n",
    "eip_out = np.array([[1,2,3],[4,5,6]])    \n",
    "print(eip_out.shape)                     \n",
    "print(eip_out[0, 0], eip_out[0, 1], eip_out[1, 0])"
   ]
  },
  {
   "cell_type": "code",
   "execution_count": 25,
   "metadata": {},
   "outputs": [
    {
     "name": "stdout",
     "output_type": "stream",
     "text": [
      "[[0. 0.]\n",
      " [0. 0.]]\n",
      "[[1. 1.]]\n",
      "[[7 7]\n",
      " [7 7]]\n",
      "[[1. 0.]\n",
      " [0. 1.]]\n",
      "[[0.47402308 0.77997697]\n",
      " [0.48571884 0.80859964]]\n"
     ]
    }
   ],
   "source": [
    "import numpy as np\n",
    "\n",
    "eip = np.zeros((2,2))   \n",
    "print(eip)             \n",
    "\n",
    "eip_in = np.ones((1,2))   \n",
    "print(eip_in)             \n",
    "\n",
    "eip_out = np.full((2,2), 7) \n",
    "print(eip_out)              \n",
    "                      \n",
    "\n",
    "mlblr = np.eye(2)         \n",
    "print(mlblr)              \n",
    "                      \n",
    "\n",
    "mlblr_in = np.random.random((2,2))  \n",
    "print(mlblr_in)"
   ]
  },
  {
   "cell_type": "code",
   "execution_count": 26,
   "metadata": {},
   "outputs": [
    {
     "name": "stdout",
     "output_type": "stream",
     "text": [
      "2\n",
      "77\n"
     ]
    }
   ],
   "source": [
    "import numpy as np\n",
    "\n",
    "eip = np.array([[1,2,3,4], [5,6,7,8], [9,10,11,12]])\n",
    "eip_in = eip[:2, 1:3]\n",
    "print(eip[0, 1])   \n",
    "eip_in[0, 0] = 77     \n",
    "print(eip[0, 1])  "
   ]
  },
  {
   "cell_type": "code",
   "execution_count": 27,
   "metadata": {},
   "outputs": [
    {
     "name": "stdout",
     "output_type": "stream",
     "text": [
      "[5 6 7 8] (4,)\n",
      "[[5 6 7 8]] (1, 4)\n",
      "[ 2  6 10] (3,)\n",
      "[[ 2]\n",
      " [ 6]\n",
      " [10]] (3, 1)\n"
     ]
    }
   ],
   "source": [
    "import numpy as np\n",
    "\n",
    "\n",
    "mlblr = np.array([[1,2,3,4], [5,6,7,8], [9,10,11,12]])\n",
    "\n",
    "eip_in = mlblr[1, :]\n",
    "eip_out = mlblr[1:2, :]  \n",
    "print(eip_in, eip_in.shape)  \n",
    "print(eip_out, eip_out.shape)  \n",
    "mlblr_in = mlblr[:, 1]\n",
    "mlblr_out = mlblr[:, 1:2]\n",
    "print(mlblr_in, mlblr_in.shape)  \n",
    "print(mlblr_out, mlblr_out.shape) "
   ]
  },
  {
   "cell_type": "code",
   "execution_count": 28,
   "metadata": {},
   "outputs": [
    {
     "name": "stdout",
     "output_type": "stream",
     "text": [
      "[1 4 5]\n",
      "[1 4 5]\n",
      "[2 2]\n",
      "[2 2]\n"
     ]
    }
   ],
   "source": [
    "import numpy as np\n",
    "\n",
    "eip = np.array([[1,2], [3, 4], [5, 6]])\n",
    "print(eip[[0, 1, 2], [0, 1, 0]])\n",
    "print(np.array([eip[0, 0], eip[1, 1], eip[2, 0]]))\n",
    "print(eip[[0, 0], [1, 1]])\n",
    "print(np.array([eip[0, 1], eip[0, 1]]))"
   ]
  },
  {
   "cell_type": "code",
   "execution_count": 29,
   "metadata": {},
   "outputs": [
    {
     "name": "stdout",
     "output_type": "stream",
     "text": [
      "[[ 1  2  3]\n",
      " [ 4  5  6]\n",
      " [ 7  8  9]\n",
      " [10 11 12]]\n",
      "[ 1  6  7 11]\n",
      "[[11  2  3]\n",
      " [ 4  5 16]\n",
      " [17  8  9]\n",
      " [10 21 12]]\n"
     ]
    }
   ],
   "source": [
    "import numpy as np\n",
    "\n",
    "mlblr = np.array([[1,2,3], [4,5,6], [7,8,9], [10, 11, 12]])\n",
    "\n",
    "print(mlblr)\n",
    "eip = np.array([0, 2, 0, 1])\n",
    "print(mlblr[np.arange(4), eip])  \n",
    "mlblr[np.arange(4), eip] += 10\n",
    "print(mlblr)"
   ]
  },
  {
   "cell_type": "code",
   "execution_count": 30,
   "metadata": {},
   "outputs": [
    {
     "name": "stdout",
     "output_type": "stream",
     "text": [
      "[[False False]\n",
      " [ True  True]\n",
      " [ True  True]]\n",
      "[3 4 5 6]\n",
      "[3 4 5 6]\n"
     ]
    }
   ],
   "source": [
    "import numpy as np\n",
    "\n",
    "eip = np.array([[1,2], [3, 4], [5, 6]])\n",
    "mlblr_in = (eip > 2)   \n",
    "print(mlblr_in)      \n",
    "print(eip[mlblr_in])  \n",
    "print(eip[eip > 2])     "
   ]
  },
  {
   "cell_type": "code",
   "execution_count": 31,
   "metadata": {},
   "outputs": [
    {
     "name": "stdout",
     "output_type": "stream",
     "text": [
      "int64\n",
      "float64\n",
      "int64\n"
     ]
    }
   ],
   "source": [
    "import numpy as np\n",
    "\n",
    "eip = np.array([1, 2])   \n",
    "print(eip.dtype)         \n",
    "\n",
    "mlblr = np.array([1.0, 2.0])   \n",
    "print(mlblr.dtype)             \n",
    "\n",
    "mlblr_in = np.array([1, 2], dtype=np.int64)   \n",
    "print(mlblr_in.dtype)                         "
   ]
  },
  {
   "cell_type": "code",
   "execution_count": 32,
   "metadata": {},
   "outputs": [
    {
     "name": "stdout",
     "output_type": "stream",
     "text": [
      "[[ 6.  8.]\n",
      " [10. 12.]]\n",
      "[[ 6.  8.]\n",
      " [10. 12.]]\n",
      "[[-4. -4.]\n",
      " [-4. -4.]]\n",
      "[[-4. -4.]\n",
      " [-4. -4.]]\n",
      "[[ 5. 12.]\n",
      " [21. 32.]]\n",
      "[[ 5. 12.]\n",
      " [21. 32.]]\n",
      "[[0.2        0.33333333]\n",
      " [0.42857143 0.5       ]]\n",
      "[[0.2        0.33333333]\n",
      " [0.42857143 0.5       ]]\n",
      "[[1.         1.41421356]\n",
      " [1.73205081 2.        ]]\n"
     ]
    }
   ],
   "source": [
    "import numpy as np\n",
    "\n",
    "eip = np.array([[1,2],[3,4]], dtype=np.float64)\n",
    "mlblr = np.array([[5,6],[7,8]], dtype=np.float64)\n",
    "print(eip + mlblr)\n",
    "print(np.add(eip, mlblr))\n",
    "print(eip - mlblr)\n",
    "print(np.subtract(eip, mlblr))\n",
    "print(eip * mlblr)\n",
    "print(np.multiply(eip, mlblr))\n",
    "print(eip / mlblr)\n",
    "print(np.divide(eip, mlblr))\n",
    "print(np.sqrt(eip))"
   ]
  },
  {
   "cell_type": "code",
   "execution_count": 33,
   "metadata": {},
   "outputs": [
    {
     "name": "stdout",
     "output_type": "stream",
     "text": [
      "219\n",
      "219\n",
      "[29 67]\n",
      "[29 67]\n",
      "[[19 22]\n",
      " [43 50]]\n",
      "[[19 22]\n",
      " [43 50]]\n"
     ]
    }
   ],
   "source": [
    "import numpy as np\n",
    "\n",
    "eip = np.array([[1,2],[3,4]])\n",
    "mlblr = np.array([[5,6],[7,8]])\n",
    "\n",
    "eip_in = np.array([9,10])\n",
    "mlblr_in = np.array([11, 12])\n",
    "\n",
    "print(eip_in.dot(mlblr_in))\n",
    "print(np.dot(eip_in, mlblr_in))\n",
    "print(eip.dot(eip_in))\n",
    "print(np.dot(eip, eip_in))\n",
    "print(eip.dot(mlblr))\n",
    "print(np.dot(eip, mlblr))"
   ]
  },
  {
   "cell_type": "code",
   "execution_count": 34,
   "metadata": {},
   "outputs": [
    {
     "name": "stdout",
     "output_type": "stream",
     "text": [
      "10\n",
      "[4 6]\n",
      "[3 7]\n"
     ]
    }
   ],
   "source": [
    "import numpy as np\n",
    "\n",
    "eip = np.array([[1,2],[3,4]])\n",
    "\n",
    "print(np.sum(eip))  \n",
    "print(np.sum(eip, axis=0))  \n",
    "print(np.sum(eip, axis=1))  "
   ]
  },
  {
   "cell_type": "code",
   "execution_count": 35,
   "metadata": {},
   "outputs": [
    {
     "name": "stdout",
     "output_type": "stream",
     "text": [
      "[[1 2]\n",
      " [3 4]]\n",
      "[[1 3]\n",
      " [2 4]]\n",
      "[1 2 3]\n",
      "[1 2 3]\n"
     ]
    }
   ],
   "source": [
    "import numpy as np\n",
    "\n",
    "eip = np.array([[1,2], [3,4]])\n",
    "print(eip)    \n",
    "print(eip.T)  \n",
    "mlblr = np.array([1,2,3])\n",
    "print(mlblr)    \n",
    "print(mlblr.T)  "
   ]
  },
  {
   "cell_type": "code",
   "execution_count": 36,
   "metadata": {},
   "outputs": [
    {
     "name": "stdout",
     "output_type": "stream",
     "text": [
      "[[ 2  2  4]\n",
      " [ 5  5  7]\n",
      " [ 8  8 10]\n",
      " [11 11 13]]\n"
     ]
    }
   ],
   "source": [
    "import numpy as np\n",
    "\n",
    "eip = np.array([[1,2,3], [4,5,6], [7,8,9], [10, 11, 12]])\n",
    "mlblr = np.array([1, 0, 1])\n",
    "eip_in = np.empty_like(eip)   \n",
    "for i in range(4):\n",
    "    eip_in[i, :] = eip[i, :] + mlblr\n",
    "print(eip_in)"
   ]
  },
  {
   "cell_type": "code",
   "execution_count": 37,
   "metadata": {},
   "outputs": [
    {
     "name": "stdout",
     "output_type": "stream",
     "text": [
      "[[1 0 1]\n",
      " [1 0 1]\n",
      " [1 0 1]\n",
      " [1 0 1]]\n",
      "[[ 2  2  4]\n",
      " [ 5  5  7]\n",
      " [ 8  8 10]\n",
      " [11 11 13]]\n"
     ]
    }
   ],
   "source": [
    "import numpy as np\n",
    "\n",
    "eip = np.array([[1,2,3], [4,5,6], [7,8,9], [10, 11, 12]])\n",
    "mlblr = np.array([1, 0, 1])\n",
    "mlblr_in = np.tile(mlblr, (4, 1))\n",
    "print(mlblr_in)\n",
    "y = eip + mlblr_in\n",
    "print(y)"
   ]
  },
  {
   "cell_type": "code",
   "execution_count": 38,
   "metadata": {},
   "outputs": [
    {
     "name": "stdout",
     "output_type": "stream",
     "text": [
      "[[ 2  2  4]\n",
      " [ 5  5  7]\n",
      " [ 8  8 10]\n",
      " [11 11 13]]\n"
     ]
    }
   ],
   "source": [
    "import numpy as np\n",
    "\n",
    "eip = np.array([[1,2,3], [4,5,6], [7,8,9], [10, 11, 12]])\n",
    "mlblr = np.array([1, 0, 1])\n",
    "eip_in = eip + mlblr\n",
    "print(eip_in)"
   ]
  },
  {
   "cell_type": "code",
   "execution_count": 39,
   "metadata": {},
   "outputs": [
    {
     "name": "stdout",
     "output_type": "stream",
     "text": [
      "[[ 4  5]\n",
      " [ 8 10]\n",
      " [12 15]]\n",
      "[[2 4 6]\n",
      " [5 7 9]]\n",
      "[[ 5  6  7]\n",
      " [ 9 10 11]]\n",
      "[[ 5  6  7]\n",
      " [ 9 10 11]]\n",
      "[[ 2  4  6]\n",
      " [ 8 10 12]]\n"
     ]
    }
   ],
   "source": [
    "import numpy as np\n",
    "\n",
    "eip = np.array([1,2,3])  \n",
    "mlblr = np.array([4,5])\n",
    "print(np.reshape(eip, (3, 1)) *mlblr)\n",
    "\n",
    "\n",
    "eip_in = np.array([[1,2,3], [4,5,6]])\n",
    "print(eip_in + eip)\n",
    "print((eip_in.T + mlblr).T)\n",
    "print(eip_in + np.reshape(mlblr, (2, 1)))\n",
    "print(eip_in * 2)"
   ]
  },
  {
   "cell_type": "code",
   "execution_count": 40,
   "metadata": {},
   "outputs": [
    {
     "name": "stdout",
     "output_type": "stream",
     "text": [
      "uint8 (700, 1000, 3)\n"
     ]
    },
    {
     "name": "stderr",
     "output_type": "stream",
     "text": [
      "/Users/abhilash/anaconda2/envs/DL/lib/python3.6/site-packages/ipykernel_launcher.py:4: DeprecationWarning: `imread` is deprecated!\n",
      "`imread` is deprecated in SciPy 1.0.0, and will be removed in 1.2.0.\n",
      "Use ``imageio.imread`` instead.\n",
      "  after removing the cwd from sys.path.\n",
      "/Users/abhilash/anaconda2/envs/DL/lib/python3.6/site-packages/ipykernel_launcher.py:7: DeprecationWarning: `imresize` is deprecated!\n",
      "`imresize` is deprecated in SciPy 1.0.0, and will be removed in 1.2.0.\n",
      "Use ``skimage.transform.resize`` instead.\n",
      "  import sys\n",
      "/Users/abhilash/anaconda2/envs/DL/lib/python3.6/site-packages/ipykernel_launcher.py:8: DeprecationWarning: `imsave` is deprecated!\n",
      "`imsave` is deprecated in SciPy 1.0.0, and will be removed in 1.2.0.\n",
      "Use ``imageio.imwrite`` instead.\n",
      "  \n"
     ]
    }
   ],
   "source": [
    "from scipy.misc import imread, imsave, imresize\n",
    "\n",
    "\n",
    "eip = imread('assets/cat.jpg')\n",
    "print(eip.dtype, eip.shape)\n",
    "mlblr = eip * [1, 0.95, 0.9]\n",
    "mlblr = imresize(mlblr, (300, 300))\n",
    "imsave('assets/cat_tinted.jpg', mlblr)"
   ]
  },
  {
   "cell_type": "code",
   "execution_count": 41,
   "metadata": {},
   "outputs": [
    {
     "name": "stdout",
     "output_type": "stream",
     "text": [
      "[[0 1]\n",
      " [1 0]\n",
      " [2 0]]\n",
      "[[0.         1.41421356 2.23606798]\n",
      " [1.41421356 0.         1.        ]\n",
      " [2.23606798 1.         0.        ]]\n"
     ]
    }
   ],
   "source": [
    "import numpy as np\n",
    "from scipy.spatial.distance import pdist, squareform\n",
    "\n",
    "\n",
    "eip = np.array([[0, 1], [1, 0], [2, 0]])\n",
    "print(eip)\n",
    "mlblr = squareform(pdist(eip, 'euclidean'))\n",
    "print(mlblr)"
   ]
  },
  {
   "cell_type": "code",
   "execution_count": 42,
   "metadata": {},
   "outputs": [
    {
     "data": {
      "image/png": "[encoded data removed]",
      "text/plain": [
       "<matplotlib.figure.Figure at 0x1814048748>"
      ]
     },
     "metadata": {},
     "output_type": "display_data"
    }
   ],
   "source": [
    "import numpy as np\n",
    "import matplotlib.pyplot as plt\n",
    "%matplotlib inline\n",
    "\n",
    "eip = np.arange(0, 3 * np.pi, 0.1)\n",
    "mlblr = np.sin(eip)\n",
    "\n",
    "plt.plot(eip, mlblr)\n",
    "plt.show()  "
   ]
  },
  {
   "cell_type": "code",
   "execution_count": 43,
   "metadata": {},
   "outputs": [
    {
     "data": {
      "image/png": "[encoded data removed]",
      "text/plain": [
       "<matplotlib.figure.Figure at 0x18189f8da0>"
      ]
     },
     "metadata": {},
     "output_type": "display_data"
    }
   ],
   "source": [
    "eip = np.arange(0, 3 * np.pi, 0.1)\n",
    "mlblr_in = np.sin(eip)\n",
    "mlblr_out = np.cos(eip)\n",
    "\n",
    "\n",
    "plt.plot(eip, mlblr_in)\n",
    "plt.plot(eip, mlblr_out)\n",
    "plt.xlabel('x axis label')\n",
    "plt.ylabel('y axis label')\n",
    "plt.title('Sine and Cosine')\n",
    "plt.legend(['Sine', 'Cosine'])\n",
    "plt.show()"
   ]
  },
  {
   "cell_type": "code",
   "execution_count": 44,
   "metadata": {},
   "outputs": [
    {
     "data": {
      "image/png": "[encoded data removed]",
      "text/plain": [
       "<matplotlib.figure.Figure at 0x111630470>"
      ]
     },
     "metadata": {},
     "output_type": "display_data"
    }
   ],
   "source": [
    "plt.subplot(2, 1, 1)\n",
    "\n",
    "\n",
    "plt.plot(eip, mlblr_in)\n",
    "plt.title('Sine')\n",
    "\n",
    "\n",
    "plt.subplot(2, 1, 2)\n",
    "plt.plot(eip, mlblr_out)\n",
    "plt.title('Cosine')\n",
    "\n",
    "plt.show()"
   ]
  },
  {
   "cell_type": "code",
   "execution_count": 45,
   "metadata": {},
   "outputs": [
    {
     "name": "stderr",
     "output_type": "stream",
     "text": [
      "/Users/abhilash/anaconda2/envs/DL/lib/python3.6/site-packages/ipykernel_launcher.py:5: DeprecationWarning: `imread` is deprecated!\n",
      "`imread` is deprecated in SciPy 1.0.0, and will be removed in 1.2.0.\n",
      "Use ``imageio.imread`` instead.\n",
      "  \"\"\"\n"
     ]
    },
    {
     "data": {
      "image/png": "[encoded data removed]",
      "text/plain": [
       "<matplotlib.figure.Figure at 0x111c3fa90>"
      ]
     },
     "metadata": {},
     "output_type": "display_data"
    }
   ],
   "source": [
    "import numpy as np\n",
    "from scipy.misc import imread, imresize\n",
    "import matplotlib.pyplot as plt\n",
    "\n",
    "eip = imread('assets/cat.jpg')\n",
    "mlblr = eip * [1, 0.95, 0.9]\n",
    "\n",
    "\n",
    "plt.subplot(1, 2, 1)\n",
    "plt.imshow(eip)\n",
    "plt.subplot(1, 2, 2)\n",
    "plt.imshow(np.uint8(mlblr))\n",
    "plt.show()"
   ]
  },
  {
   "cell_type": "code",
   "execution_count": null,
   "metadata": {},
   "outputs": [],
   "source": []
  }
 ],
 "metadata": {
  "kernelspec": {
   "display_name": "Python 3",
   "language": "python",
   "name": "python3"
  },
  "language_info": {
   "codemirror_mode": {
    "name": "ipython",
    "version": 3
   },
   "file_extension": ".py",
   "mimetype": "text/x-python",
   "name": "python",
   "nbconvert_exporter": "python",
   "pygments_lexer": "ipython3",
   "version": "3.6.4"
  }
 },
 "nbformat": 4,
 "nbformat_minor": 2
}
