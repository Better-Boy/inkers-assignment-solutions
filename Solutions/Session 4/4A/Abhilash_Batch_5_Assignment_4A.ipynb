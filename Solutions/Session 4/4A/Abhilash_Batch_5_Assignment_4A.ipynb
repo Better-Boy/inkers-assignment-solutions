{
  "nbformat": 4,
  "nbformat_minor": 0,
  "metadata": {
    "colab": {
      "name": "Assignment 4A.ipynb",
      "version": "0.3.2",
      "views": {},
      "default_view": {},
      "provenance": []
    },
    "kernelspec": {
      "name": "python3",
      "display_name": "Python 3"
    },
    "accelerator": "GPU"
  },
  "cells": [
    {
      "metadata": {
        "id": "I6U7Mi33xfEq",
        "colab_type": "code",
        "colab": {
          "autoexec": {
            "startup": false,
            "wait_interval": 0
          },
          "base_uri": "https://localhost:8080/",
          "height": 34
        },
        "cellView": "code",
        "outputId": "65355e99-d5a0-4a0f-e8ef-3a4d276edb8f",
        "executionInfo": {
          "status": "ok",
          "timestamp": 1527002755415,
          "user_tz": -330,
          "elapsed": 956,
          "user": {
            "displayName": "Abhilash Kr",
            "photoUrl": "//lh3.googleusercontent.com/-ku8OI7V-wP0/AAAAAAAAAAI/AAAAAAAABt4/2xYm0RNvEOM/s50-c-k-no/photo.jpg",
            "userId": "103020846037156732758"
          }
        }
      },
      "cell_type": "code",
      "source": [
        "#@title Default title text\n",
        "import tensorflow as tf\n",
        "device_name = tf.test.gpu_device_name()\n",
        "if device_name != '/device:GPU:0':\n",
        "  raise SystemError('GPU device not found')\n",
        "print('Found GPU at: {}'.format(device_name))"
      ],
      "execution_count": 74,
      "outputs": [
        {
          "output_type": "stream",
          "text": [
            "Found GPU at: /device:GPU:0\n"
          ],
          "name": "stdout"
        }
      ]
    },
    {
      "metadata": {
        "id": "SHT8V5bY2Riu",
        "colab_type": "text"
      },
      "cell_type": "markdown",
      "source": [
        "First Check for GPU backend"
      ]
    },
    {
      "metadata": {
        "id": "b96FuIaR2G3a",
        "colab_type": "text"
      },
      "cell_type": "markdown",
      "source": [
        "Run the following cell only first time, later you can remove the cell once keras has been installed"
      ]
    },
    {
      "metadata": {
        "id": "5ouhAwPjyk0T",
        "colab_type": "code",
        "colab": {
          "autoexec": {
            "startup": false,
            "wait_interval": 0
          }
        }
      },
      "cell_type": "code",
      "source": [
        "!pip install -q keras"
      ],
      "execution_count": 0,
      "outputs": []
    },
    {
      "metadata": {
        "id": "7au_sKF02GLn",
        "colab_type": "text"
      },
      "cell_type": "markdown",
      "source": [
        "# Import the necessary libraries"
      ]
    },
    {
      "metadata": {
        "id": "NF1h5pbMyomM",
        "colab_type": "code",
        "colab": {
          "autoexec": {
            "startup": false,
            "wait_interval": 0
          }
        }
      },
      "cell_type": "code",
      "source": [
        "import numpy as np\n",
        "\n",
        "from keras.models import Sequential\n",
        "from keras.layers import Dense, Dropout, Activation, Flatten, Add\n",
        "from keras.layers import Convolution2D, BatchNormalization, AveragePooling2D\n",
        "from keras.utils import np_utils\n",
        "from keras.preprocessing.image import ImageDataGenerator\n",
        "import matplotlib.pyplot as plt\n",
        "\n",
        "from keras.datasets import mnist\n",
        "%matplotlib inline"
      ],
      "execution_count": 0,
      "outputs": []
    },
    {
      "metadata": {
        "id": "yumskyC82l5y",
        "colab_type": "text"
      },
      "cell_type": "markdown",
      "source": [
        "# Load the data"
      ]
    },
    {
      "metadata": {
        "id": "g8CgcOqazf34",
        "colab_type": "code",
        "colab": {
          "autoexec": {
            "startup": false,
            "wait_interval": 0
          }
        }
      },
      "cell_type": "code",
      "source": [
        "(X_train, y_train), (X_test, y_test) = mnist.load_data()"
      ],
      "execution_count": 0,
      "outputs": []
    },
    {
      "metadata": {
        "id": "bVtzHCHwz2qL",
        "colab_type": "code",
        "colab": {
          "autoexec": {
            "startup": false,
            "wait_interval": 0
          },
          "base_uri": "https://localhost:8080/",
          "height": 299
        },
        "outputId": "a12b6dda-e8d4-460d-af9f-04d7b5a1441d",
        "executionInfo": {
          "status": "ok",
          "timestamp": 1527065829632,
          "user_tz": -330,
          "elapsed": 1036,
          "user": {
            "displayName": "Abhilash Kr",
            "photoUrl": "//lh3.googleusercontent.com/-ku8OI7V-wP0/AAAAAAAAAAI/AAAAAAAABt4/2xYm0RNvEOM/s50-c-k-no/photo.jpg",
            "userId": "103020846037156732758"
          }
        }
      },
      "cell_type": "code",
      "source": [
        "print(X_train.shape)\n",
        "plt.imshow(X_train[0])"
      ],
      "execution_count": 42,
      "outputs": [
        {
          "output_type": "stream",
          "text": [
            "(60000, 28, 28)\n"
          ],
          "name": "stdout"
        },
        {
          "output_type": "execute_result",
          "data": {
            "text/plain": [
              "<matplotlib.image.AxesImage at 0x7ff18c360c88>"
            ]
          },
          "metadata": {
            "tags": []
          },
          "execution_count": 42
        },
        {
          "output_type": "display_data",
          "data": {
            "image/png": "[encoded data removed]",
            "text/plain": [
              "<matplotlib.figure.Figure at 0x7ff18d39c7f0>"
            ]
          },
          "metadata": {
            "tags": []
          }
        }
      ]
    },
    {
      "metadata": {
        "id": "BMptf6GV2qa1",
        "colab_type": "text"
      },
      "cell_type": "markdown",
      "source": [
        "# Reshape the data and scale it to 255"
      ]
    },
    {
      "metadata": {
        "id": "dmQhOr--z4Oe",
        "colab_type": "code",
        "colab": {
          "autoexec": {
            "startup": false,
            "wait_interval": 0
          }
        }
      },
      "cell_type": "code",
      "source": [
        "X_train = X_train.reshape(X_train.shape[0],28,28,1)\n",
        "X_test = X_test.reshape(X_test.shape[0],28,28,1)"
      ],
      "execution_count": 0,
      "outputs": []
    },
    {
      "metadata": {
        "id": "GcVsqOdG1Gah",
        "colab_type": "code",
        "colab": {
          "autoexec": {
            "startup": false,
            "wait_interval": 0
          }
        }
      },
      "cell_type": "code",
      "source": [
        "X_train = X_train.astype('float32')\n",
        "X_test = X_test.astype('float32')\n",
        "X_train /= 255\n",
        "X_test /= 255"
      ],
      "execution_count": 0,
      "outputs": []
    },
    {
      "metadata": {
        "id": "uPV2G_WK1IKc",
        "colab_type": "code",
        "colab": {
          "autoexec": {
            "startup": false,
            "wait_interval": 0
          }
        }
      },
      "cell_type": "code",
      "source": [
        "Y_train = np_utils.to_categorical(y_train, 10)\n",
        "Y_test = np_utils.to_categorical(y_test, 10)"
      ],
      "execution_count": 0,
      "outputs": []
    },
    {
      "metadata": {
        "id": "5-3Dm3lr1pEf",
        "colab_type": "code",
        "colab": {
          "autoexec": {
            "startup": false,
            "wait_interval": 0
          },
          "base_uri": "https://localhost:8080/",
          "height": 187
        },
        "outputId": "4728b659-05a9-44a9-9429-5d250f4b6e44",
        "executionInfo": {
          "status": "ok",
          "timestamp": 1527065834902,
          "user_tz": -330,
          "elapsed": 1310,
          "user": {
            "displayName": "Abhilash Kr",
            "photoUrl": "//lh3.googleusercontent.com/-ku8OI7V-wP0/AAAAAAAAAAI/AAAAAAAABt4/2xYm0RNvEOM/s50-c-k-no/photo.jpg",
            "userId": "103020846037156732758"
          }
        }
      },
      "cell_type": "code",
      "source": [
        "Y_train[:10]"
      ],
      "execution_count": 46,
      "outputs": [
        {
          "output_type": "execute_result",
          "data": {
            "text/plain": [
              "array([[0., 0., 0., 0., 0., 1., 0., 0., 0., 0.],\n",
              "       [1., 0., 0., 0., 0., 0., 0., 0., 0., 0.],\n",
              "       [0., 0., 0., 0., 1., 0., 0., 0., 0., 0.],\n",
              "       [0., 1., 0., 0., 0., 0., 0., 0., 0., 0.],\n",
              "       [0., 0., 0., 0., 0., 0., 0., 0., 0., 1.],\n",
              "       [0., 0., 1., 0., 0., 0., 0., 0., 0., 0.],\n",
              "       [0., 1., 0., 0., 0., 0., 0., 0., 0., 0.],\n",
              "       [0., 0., 0., 1., 0., 0., 0., 0., 0., 0.],\n",
              "       [0., 1., 0., 0., 0., 0., 0., 0., 0., 0.],\n",
              "       [0., 0., 0., 0., 1., 0., 0., 0., 0., 0.]], dtype=float32)"
            ]
          },
          "metadata": {
            "tags": []
          },
          "execution_count": 46
        }
      ]
    },
    {
      "metadata": {
        "id": "hVWBj2y4XiEb",
        "colab_type": "code",
        "colab": {
          "autoexec": {
            "startup": false,
            "wait_interval": 0
          }
        }
      },
      "cell_type": "code",
      "source": [
        "train_gen = ImageDataGenerator(\n",
        "        rotation_range=8,\n",
        "        width_shift_range=0.08,\n",
        "        height_shift_range=0.08,\n",
        "        zoom_range=0.08)"
      ],
      "execution_count": 0,
      "outputs": []
    },
    {
      "metadata": {
        "id": "sQcanG1fdWx4",
        "colab_type": "code",
        "colab": {
          "autoexec": {
            "startup": false,
            "wait_interval": 0
          }
        }
      },
      "cell_type": "code",
      "source": [
        "train_generator = train_gen.flow(X_train, Y_train, batch_size=512)\n",
        "test_generator = ImageDataGenerator().flow(X_test, Y_test, batch_size=512)"
      ],
      "execution_count": 0,
      "outputs": []
    },
    {
      "metadata": {
        "id": "fceAdATO2yIE",
        "colab_type": "text"
      },
      "cell_type": "markdown",
      "source": [
        "# Build the model"
      ]
    },
    {
      "metadata": {
        "id": "c_QNXc6F1523",
        "colab_type": "code",
        "colab": {
          "autoexec": {
            "startup": false,
            "wait_interval": 0
          }
        }
      },
      "cell_type": "code",
      "source": [
        "model = Sequential()\n",
        "\n",
        " \n",
        "model.add(Convolution2D(5, (7, 7),activation='relu',padding='same',input_shape=(28,28,1)))\n",
        "model.add(BatchNormalization())\n",
        "model.add(Convolution2D(5, (5,5), activation='relu'))\n",
        "model.add(BatchNormalization())\n",
        "model.add(AveragePooling2D(pool_size=(2,2),strides=(2,2)))\n",
        "model.add(Dropout(0.25))\n",
        "\n",
        "\n",
        "model.add(Convolution2D(10, (3, 3), activation='relu'))\n",
        "model.add(BatchNormalization())\n",
        "model.add(Convolution2D(10, (3, 3), activation='relu'))\n",
        "model.add(BatchNormalization())\n",
        "model.add(AveragePooling2D(pool_size=(2,2),strides=(2,2)))\n",
        "model.add(Dropout(0.25))\n",
        "\n",
        "\n",
        "model.add(Convolution2D(10, 4))\n",
        "model.add(Flatten())\n",
        "model.add(Activation('softmax'))"
      ],
      "execution_count": 0,
      "outputs": []
    },
    {
      "metadata": {
        "id": "lSgdaj4B4jtZ",
        "colab_type": "code",
        "colab": {
          "autoexec": {
            "startup": false,
            "wait_interval": 0
          },
          "base_uri": "https://localhost:8080/",
          "height": 646
        },
        "outputId": "4313ad94-9c29-409f-f814-f4fac27ceeb1",
        "executionInfo": {
          "status": "ok",
          "timestamp": 1527065860750,
          "user_tz": -330,
          "elapsed": 1030,
          "user": {
            "displayName": "Abhilash Kr",
            "photoUrl": "//lh3.googleusercontent.com/-ku8OI7V-wP0/AAAAAAAAAAI/AAAAAAAABt4/2xYm0RNvEOM/s50-c-k-no/photo.jpg",
            "userId": "103020846037156732758"
          }
        }
      },
      "cell_type": "code",
      "source": [
        "model.summary()"
      ],
      "execution_count": 52,
      "outputs": [
        {
          "output_type": "stream",
          "text": [
            "_________________________________________________________________\n",
            "Layer (type)                 Output Shape              Param #   \n",
            "=================================================================\n",
            "conv2d_66 (Conv2D)           (None, 28, 28, 5)         250       \n",
            "_________________________________________________________________\n",
            "batch_normalization_59 (Batc (None, 28, 28, 5)         20        \n",
            "_________________________________________________________________\n",
            "conv2d_67 (Conv2D)           (None, 24, 24, 5)         630       \n",
            "_________________________________________________________________\n",
            "batch_normalization_60 (Batc (None, 24, 24, 5)         20        \n",
            "_________________________________________________________________\n",
            "average_pooling2d_20 (Averag (None, 12, 12, 5)         0         \n",
            "_________________________________________________________________\n",
            "dropout_9 (Dropout)          (None, 12, 12, 5)         0         \n",
            "_________________________________________________________________\n",
            "conv2d_68 (Conv2D)           (None, 10, 10, 10)        460       \n",
            "_________________________________________________________________\n",
            "batch_normalization_61 (Batc (None, 10, 10, 10)        40        \n",
            "_________________________________________________________________\n",
            "conv2d_69 (Conv2D)           (None, 8, 8, 10)          910       \n",
            "_________________________________________________________________\n",
            "batch_normalization_62 (Batc (None, 8, 8, 10)          40        \n",
            "_________________________________________________________________\n",
            "average_pooling2d_21 (Averag (None, 4, 4, 10)          0         \n",
            "_________________________________________________________________\n",
            "dropout_10 (Dropout)         (None, 4, 4, 10)          0         \n",
            "_________________________________________________________________\n",
            "conv2d_70 (Conv2D)           (None, 1, 1, 10)          1610      \n",
            "_________________________________________________________________\n",
            "flatten_12 (Flatten)         (None, 10)                0         \n",
            "_________________________________________________________________\n",
            "activation_12 (Activation)   (None, 10)                0         \n",
            "=================================================================\n",
            "Total params: 3,980\n",
            "Trainable params: 3,920\n",
            "Non-trainable params: 60\n",
            "_________________________________________________________________\n"
          ],
          "name": "stdout"
        }
      ]
    },
    {
      "metadata": {
        "id": "3WQ_gfPy4nM_",
        "colab_type": "code",
        "colab": {
          "autoexec": {
            "startup": false,
            "wait_interval": 0
          }
        }
      },
      "cell_type": "code",
      "source": [
        "model.compile(loss=\"categorical_crossentropy\",optimizer='adam',metrics=['accuracy'])"
      ],
      "execution_count": 0,
      "outputs": []
    },
    {
      "metadata": {
        "id": "VKR2puSCOGxs",
        "colab_type": "code",
        "colab": {
          "autoexec": {
            "startup": false,
            "wait_interval": 0
          },
          "base_uri": "https://localhost:8080/",
          "height": 394
        },
        "outputId": "176b0644-8fe9-4e81-f5c3-ab2b04189e67",
        "executionInfo": {
          "status": "ok",
          "timestamp": 1527067344274,
          "user_tz": -330,
          "elapsed": 1480227,
          "user": {
            "displayName": "Abhilash Kr",
            "photoUrl": "//lh3.googleusercontent.com/-ku8OI7V-wP0/AAAAAAAAAAI/AAAAAAAABt4/2xYm0RNvEOM/s50-c-k-no/photo.jpg",
            "userId": "103020846037156732758"
          }
        }
      },
      "cell_type": "code",
      "source": [
        "# model.fit(X_train, Y_train, batch_size=32, nb_epoch=10, verbose=1)\n",
        "model.fit_generator(train_generator, steps_per_epoch=60000//64, epochs=10, \n",
        "                    validation_data=test_generator, validation_steps=10000//64)"
      ],
      "execution_count": 54,
      "outputs": [
        {
          "output_type": "stream",
          "text": [
            "Epoch 1/10\n",
            "937/937 [==============================] - 154s 164ms/step - loss: 0.3451 - acc: 0.8916 - val_loss: 0.0507 - val_acc: 0.9822\n",
            "Epoch 2/10\n",
            " 68/937 [=>............................] - ETA: 2:00 - loss: 0.1486 - acc: 0.9521"
          ],
          "name": "stdout"
        },
        {
          "output_type": "stream",
          "text": [
            "937/937 [==============================] - 148s 158ms/step - loss: 0.1281 - acc: 0.9600 - val_loss: 0.0331 - val_acc: 0.9887\n",
            "Epoch 3/10\n",
            "144/937 [===>..........................] - ETA: 1:52 - loss: 0.1109 - acc: 0.9648"
          ],
          "name": "stdout"
        },
        {
          "output_type": "stream",
          "text": [
            "937/937 [==============================] - 145s 154ms/step - loss: 0.1039 - acc: 0.9674 - val_loss: 0.0312 - val_acc: 0.9884\n",
            "Epoch 4/10\n",
            "173/937 [====>.........................] - ETA: 1:48 - loss: 0.0996 - acc: 0.9689"
          ],
          "name": "stdout"
        },
        {
          "output_type": "stream",
          "text": [
            "937/937 [==============================] - 148s 158ms/step - loss: 0.0956 - acc: 0.9700 - val_loss: 0.0315 - val_acc: 0.9885\n",
            "Epoch 5/10\n",
            "183/937 [====>.........................] - ETA: 1:51 - loss: 0.0936 - acc: 0.9708"
          ],
          "name": "stdout"
        },
        {
          "output_type": "stream",
          "text": [
            "937/937 [==============================] - 148s 158ms/step - loss: 0.0902 - acc: 0.9719 - val_loss: 0.0316 - val_acc: 0.9888\n",
            "Epoch 6/10\n",
            "187/937 [====>.........................] - ETA: 1:50 - loss: 0.0876 - acc: 0.9723"
          ],
          "name": "stdout"
        },
        {
          "output_type": "stream",
          "text": [
            "937/937 [==============================] - 150s 160ms/step - loss: 0.0862 - acc: 0.9728 - val_loss: 0.0400 - val_acc: 0.9857\n",
            "Epoch 7/10\n",
            "185/937 [====>.........................] - ETA: 1:53 - loss: 0.0841 - acc: 0.9743"
          ],
          "name": "stdout"
        },
        {
          "output_type": "stream",
          "text": [
            "937/937 [==============================] - 148s 158ms/step - loss: 0.0838 - acc: 0.9740 - val_loss: 0.0288 - val_acc: 0.9904\n",
            "Epoch 8/10\n",
            "185/937 [====>.........................] - ETA: 1:48 - loss: 0.0813 - acc: 0.9742"
          ],
          "name": "stdout"
        },
        {
          "output_type": "stream",
          "text": [
            "937/937 [==============================] - 146s 155ms/step - loss: 0.0809 - acc: 0.9748 - val_loss: 0.0273 - val_acc: 0.9902\n",
            "Epoch 9/10\n",
            "188/937 [=====>........................] - ETA: 1:46 - loss: 0.0789 - acc: 0.9754"
          ],
          "name": "stdout"
        },
        {
          "output_type": "stream",
          "text": [
            "937/937 [==============================] - 146s 156ms/step - loss: 0.0795 - acc: 0.9753 - val_loss: 0.0294 - val_acc: 0.9893\n",
            "Epoch 10/10\n",
            "190/937 [=====>........................] - ETA: 1:48 - loss: 0.0795 - acc: 0.9757"
          ],
          "name": "stdout"
        },
        {
          "output_type": "stream",
          "text": [
            "937/937 [==============================] - 146s 156ms/step - loss: 0.0784 - acc: 0.9756 - val_loss: 0.0248 - val_acc: 0.9917\n"
          ],
          "name": "stdout"
        },
        {
          "output_type": "execute_result",
          "data": {
            "text/plain": [
              "<keras.callbacks.History at 0x7ff18c36aef0>"
            ]
          },
          "metadata": {
            "tags": []
          },
          "execution_count": 54
        }
      ]
    },
    {
      "metadata": {
        "id": "rwQ6GCk9Ob5P",
        "colab_type": "code",
        "colab": {
          "autoexec": {
            "startup": false,
            "wait_interval": 0
          },
          "base_uri": "https://localhost:8080/",
          "height": 34
        },
        "outputId": "7e6c2bb8-d5c7-48a7-aaeb-412462308fc7",
        "executionInfo": {
          "status": "ok",
          "timestamp": 1527067733537,
          "user_tz": -330,
          "elapsed": 2397,
          "user": {
            "displayName": "Abhilash Kr",
            "photoUrl": "//lh3.googleusercontent.com/-ku8OI7V-wP0/AAAAAAAAAAI/AAAAAAAABt4/2xYm0RNvEOM/s50-c-k-no/photo.jpg",
            "userId": "103020846037156732758"
          }
        }
      },
      "cell_type": "code",
      "source": [
        "score = model.evaluate(X_test,Y_test)"
      ],
      "execution_count": 57,
      "outputs": [
        {
          "output_type": "stream",
          "text": [
            "10000/10000 [==============================] - 1s 138us/step\n"
          ],
          "name": "stdout"
        }
      ]
    },
    {
      "metadata": {
        "id": "-kEFH6srVIHS",
        "colab_type": "code",
        "colab": {
          "autoexec": {
            "startup": false,
            "wait_interval": 0
          },
          "base_uri": "https://localhost:8080/",
          "height": 34
        },
        "outputId": "a7d490ee-80ca-4080-da18-5baf607780c6",
        "executionInfo": {
          "status": "ok",
          "timestamp": 1527067741869,
          "user_tz": -330,
          "elapsed": 906,
          "user": {
            "displayName": "Abhilash Kr",
            "photoUrl": "//lh3.googleusercontent.com/-ku8OI7V-wP0/AAAAAAAAAAI/AAAAAAAABt4/2xYm0RNvEOM/s50-c-k-no/photo.jpg",
            "userId": "103020846037156732758"
          }
        }
      },
      "cell_type": "code",
      "source": [
        "score"
      ],
      "execution_count": 58,
      "outputs": [
        {
          "output_type": "execute_result",
          "data": {
            "text/plain": [
              "[0.024800974605418743, 0.9917]"
            ]
          },
          "metadata": {
            "tags": []
          },
          "execution_count": 58
        }
      ]
    },
    {
      "metadata": {
        "id": "wda2r7ZdPVyt",
        "colab_type": "code",
        "colab": {
          "autoexec": {
            "startup": false,
            "wait_interval": 0
          }
        }
      },
      "cell_type": "code",
      "source": [
        "y_pred = model.predict(X_test)"
      ],
      "execution_count": 0,
      "outputs": []
    },
    {
      "metadata": {
        "id": "ki479WedPgMZ",
        "colab_type": "code",
        "colab": {
          "autoexec": {
            "startup": false,
            "wait_interval": 0
          },
          "base_uri": "https://localhost:8080/",
          "height": 476
        },
        "outputId": "10219a85-cfd6-4a8f-8e3a-15962f7e5dc0",
        "executionInfo": {
          "status": "ok",
          "timestamp": 1527067746009,
          "user_tz": -330,
          "elapsed": 843,
          "user": {
            "displayName": "Abhilash Kr",
            "photoUrl": "//lh3.googleusercontent.com/-ku8OI7V-wP0/AAAAAAAAAAI/AAAAAAAABt4/2xYm0RNvEOM/s50-c-k-no/photo.jpg",
            "userId": "103020846037156732758"
          }
        }
      },
      "cell_type": "code",
      "source": [
        "y_pred[:9]"
      ],
      "execution_count": 60,
      "outputs": [
        {
          "output_type": "execute_result",
          "data": {
            "text/plain": [
              "array([[3.2876979e-09, 1.1106733e-07, 1.0593239e-05, 1.2855716e-06,\n",
              "        2.8898239e-09, 5.8725709e-09, 4.1818606e-12, 9.9997997e-01,\n",
              "        3.0947646e-08, 7.9544552e-06],\n",
              "       [1.7617953e-05, 4.6877952e-07, 9.9995160e-01, 4.1431576e-06,\n",
              "        1.4426624e-08, 1.5427154e-10, 1.9272426e-07, 3.7123922e-09,\n",
              "        2.5891404e-05, 2.7365385e-08],\n",
              "       [1.3312573e-06, 9.9997509e-01, 1.3799698e-07, 5.8399920e-09,\n",
              "        1.2739664e-05, 5.5163747e-07, 7.0768385e-07, 8.3427649e-06,\n",
              "        2.5308328e-08, 1.1132282e-06],\n",
              "       [9.7925574e-01, 2.0818158e-09, 2.1029748e-06, 2.4377619e-07,\n",
              "        5.6284801e-08, 4.8093661e-06, 2.0647243e-02, 3.1627561e-09,\n",
              "        8.7957298e-05, 1.9546103e-06],\n",
              "       [8.1091240e-09, 9.8199560e-10, 7.9930027e-09, 1.9155643e-12,\n",
              "        9.9991775e-01, 4.6591547e-10, 9.1049551e-10, 2.9682004e-10,\n",
              "        3.4971566e-09, 8.2232626e-05],\n",
              "       [3.4772964e-07, 9.9998939e-01, 6.8650124e-08, 5.3367189e-11,\n",
              "        4.4635167e-06, 9.6287316e-09, 3.1532684e-07, 5.1589714e-06,\n",
              "        6.0107790e-09, 1.8122763e-07],\n",
              "       [3.1154613e-08, 2.2981746e-08, 1.9153174e-06, 1.9521269e-10,\n",
              "        9.9675924e-01, 2.1357782e-06, 1.3845762e-07, 2.2372573e-07,\n",
              "        1.1273076e-04, 3.1235334e-03],\n",
              "       [2.3910511e-08, 2.9451672e-09, 2.4591784e-06, 1.5539604e-06,\n",
              "        7.2195579e-04, 1.3435900e-05, 1.5255331e-09, 5.4038214e-06,\n",
              "        2.4895349e-05, 9.9923027e-01],\n",
              "       [1.1089957e-06, 1.3592453e-12, 6.2541572e-10, 3.7118866e-07,\n",
              "        6.9053163e-09, 9.9611986e-01, 2.2273269e-03, 2.4476265e-10,\n",
              "        1.6350257e-03, 1.6430373e-05]], dtype=float32)"
            ]
          },
          "metadata": {
            "tags": []
          },
          "execution_count": 60
        }
      ]
    },
    {
      "metadata": {
        "id": "drw8-D8zPm-V",
        "colab_type": "code",
        "colab": {
          "autoexec": {
            "startup": false,
            "wait_interval": 0
          },
          "base_uri": "https://localhost:8080/",
          "height": 34
        },
        "outputId": "17f587eb-0a17-4f60-a550-a73f4230c211",
        "executionInfo": {
          "status": "ok",
          "timestamp": 1527067751792,
          "user_tz": -330,
          "elapsed": 883,
          "user": {
            "displayName": "Abhilash Kr",
            "photoUrl": "//lh3.googleusercontent.com/-ku8OI7V-wP0/AAAAAAAAAAI/AAAAAAAABt4/2xYm0RNvEOM/s50-c-k-no/photo.jpg",
            "userId": "103020846037156732758"
          }
        }
      },
      "cell_type": "code",
      "source": [
        "y_test[:9]"
      ],
      "execution_count": 61,
      "outputs": [
        {
          "output_type": "execute_result",
          "data": {
            "text/plain": [
              "array([7, 2, 1, 0, 4, 1, 4, 9, 5], dtype=uint8)"
            ]
          },
          "metadata": {
            "tags": []
          },
          "execution_count": 61
        }
      ]
    },
    {
      "metadata": {
        "id": "eGPQoGuvPoxP",
        "colab_type": "code",
        "colab": {
          "autoexec": {
            "startup": false,
            "wait_interval": 0
          }
        }
      },
      "cell_type": "code",
      "source": [
        "layer_dict = dict([(layer.name,layer) for layer in model.layers])"
      ],
      "execution_count": 0,
      "outputs": []
    },
    {
      "metadata": {
        "id": "F6IqC1FnPxOX",
        "colab_type": "code",
        "colab": {
          "autoexec": {
            "startup": false,
            "wait_interval": 0
          },
          "base_uri": "https://localhost:8080/",
          "height": 272
        },
        "outputId": "a8b17c99-5570-4e61-d163-df80cd692756",
        "executionInfo": {
          "status": "ok",
          "timestamp": 1527069125433,
          "user_tz": -330,
          "elapsed": 1377,
          "user": {
            "displayName": "Abhilash Kr",
            "photoUrl": "//lh3.googleusercontent.com/-ku8OI7V-wP0/AAAAAAAAAAI/AAAAAAAABt4/2xYm0RNvEOM/s50-c-k-no/photo.jpg",
            "userId": "103020846037156732758"
          }
        }
      },
      "cell_type": "code",
      "source": [
        "layer_dict"
      ],
      "execution_count": 66,
      "outputs": [
        {
          "output_type": "execute_result",
          "data": {
            "text/plain": [
              "{'activation_12': <keras.layers.core.Activation at 0x7ff18c2bf9b0>,\n",
              " 'average_pooling2d_20': <keras.layers.pooling.AveragePooling2D at 0x7ff18cee0cc0>,\n",
              " 'average_pooling2d_21': <keras.layers.pooling.AveragePooling2D at 0x7ff18ccdbd68>,\n",
              " 'batch_normalization_59': <keras.layers.normalization.BatchNormalization at 0x7ff18cf068d0>,\n",
              " 'batch_normalization_60': <keras.layers.normalization.BatchNormalization at 0x7ff18cf18320>,\n",
              " 'batch_normalization_61': <keras.layers.normalization.BatchNormalization at 0x7ff18ce796d8>,\n",
              " 'batch_normalization_62': <keras.layers.normalization.BatchNormalization at 0x7ff18cd58fd0>,\n",
              " 'conv2d_66': <keras.layers.convolutional.Conv2D at 0x7ff18cf5a240>,\n",
              " 'conv2d_67': <keras.layers.convolutional.Conv2D at 0x7ff18cf06c18>,\n",
              " 'conv2d_68': <keras.layers.convolutional.Conv2D at 0x7ff18ce21e48>,\n",
              " 'conv2d_69': <keras.layers.convolutional.Conv2D at 0x7ff18cd58eb8>,\n",
              " 'conv2d_70': <keras.layers.convolutional.Conv2D at 0x7ff18cbbb160>,\n",
              " 'dropout_10': <keras.layers.core.Dropout at 0x7ff18cdd7dd8>,\n",
              " 'dropout_9': <keras.layers.core.Dropout at 0x7ff18cf2d048>,\n",
              " 'flatten_12': <keras.layers.core.Flatten at 0x7ff18cbd7710>}"
            ]
          },
          "metadata": {
            "tags": []
          },
          "execution_count": 66
        }
      ]
    },
    {
      "metadata": {
        "id": "xEvmxjimQ7NH",
        "colab_type": "code",
        "colab": {
          "autoexec": {
            "startup": false,
            "wait_interval": 0
          },
          "base_uri": "https://localhost:8080/",
          "height": 807
        },
        "outputId": "9c8a11ba-d222-4044-eaf6-fd8728377358",
        "executionInfo": {
          "status": "ok",
          "timestamp": 1527069931784,
          "user_tz": -330,
          "elapsed": 6636,
          "user": {
            "displayName": "Abhilash Kr",
            "photoUrl": "//lh3.googleusercontent.com/-ku8OI7V-wP0/AAAAAAAAAAI/AAAAAAAABt4/2xYm0RNvEOM/s50-c-k-no/photo.jpg",
            "userId": "103020846037156732758"
          }
        }
      },
      "cell_type": "code",
      "source": [
        "from keras import backend as K\n",
        "\n",
        "# util function to convert a tensor into a valid image\n",
        "def deprocess_image(x):\n",
        "    # normalize tensor: center on 0., ensure std is 0.1\n",
        "    x -= x.mean()\n",
        "    x /= (x.std() + 1e-5)\n",
        "    x *= 0.1\n",
        "\n",
        "    # clip to [0, 1]\n",
        "    x += 0.5\n",
        "    x = np.clip(x, 0, 1)\n",
        "\n",
        "    # convert to RGB array\n",
        "    x *= 255\n",
        "    #x = x.transpose((1, 2, 0))\n",
        "    x = np.clip(x, 0, 255).astype('uint8')\n",
        "    return x\n",
        "\n",
        "def vis_img_in_filter(img = np.array(X_train[2]).reshape((1, 28, 28, 1)).astype(np.float64), \n",
        "                      layer_name = 'conv2d_66'):\n",
        "    layer_output = layer_dict[layer_name].output\n",
        "    img_ascs = list()\n",
        "    for filter_index in range(layer_output.shape[3]):\n",
        "        # build a loss function that maximizes the activation\n",
        "        # of the nth filter of the layer considered\n",
        "        loss = K.mean(layer_output[:, :, :, filter_index])\n",
        "\n",
        "        # compute the gradient of the input picture wrt this loss\n",
        "        grads = K.gradients(loss, model.input)[0]\n",
        "\n",
        "        # normalization trick: we normalize the gradient\n",
        "        grads /= (K.sqrt(K.mean(K.square(grads))) + 1e-5)\n",
        "        \n",
        "        \n",
        "        # this function returns the loss and grads given the input picture\n",
        "        iterate = K.function([model.input], [loss, grads])\n",
        "\n",
        "        # step size for gradient ascent\n",
        "        step = 5.\n",
        "\n",
        "        img_asc = np.array(img)\n",
        "        \n",
        "        # run gradient ascent for 20 steps\n",
        "        for i in range(20):\n",
        "            loss_value, grads_value = iterate([img_asc])\n",
        "            img_asc += grads_value * step\n",
        "\n",
        "        img_asc = img_asc[0]\n",
        "        img_ascs.append(deprocess_image(img_asc).reshape((28, 28)))\n",
        "     \n",
        "    if layer_output.shape[3] >= 35:\n",
        "        plot_x, plot_y = 6, 6\n",
        "    elif layer_output.shape[3] >= 23:\n",
        "        plot_x, plot_y = 4, 6\n",
        "    elif layer_output.shape[3] >= 11:\n",
        "        plot_x, plot_y = 2, 6\n",
        "    else:\n",
        "        plot_x, plot_y = 2, 3 # Depending on the number of filters used change this numbers or you will get error or empty subplots\n",
        "    fig, ax = plt.subplots(plot_x, plot_y, figsize = (12, 12))\n",
        "    ax[0, 0].imshow(img.reshape(28, 28), cmap = 'gray')\n",
        "    ax[0, 0].set_title('Input image')\n",
        "    fig.suptitle('Input image and %s filters' % (layer_name,))\n",
        "    fig.tight_layout(pad = 0.3, rect = [0, 0, 0.9, 0.9])\n",
        "    for (x, y) in [(i, j) for i in range(plot_x) for j in range(plot_y)]:\n",
        "        if x == 0 and y == 0:\n",
        "            continue\n",
        "        ax[x, y].imshow(img_ascs[x * plot_y + y - 1], cmap = 'gray')\n",
        "        ax[x, y].set_title('filter %d' % (x * plot_y + y - 1))\n",
        "\n",
        "vis_img_in_filter()"
      ],
      "execution_count": 80,
      "outputs": [
        {
          "output_type": "display_data",
          "data": {
            "image/png": "[encoded data removed]",
            "text/plain": [
              "<matplotlib.figure.Figure at 0x7ff189efecf8>"
            ]
          },
          "metadata": {
            "tags": []
          }
        }
      ]
    },
    {
      "metadata": {
        "id": "gTmaRzMvRI-K",
        "colab_type": "code",
        "colab": {
          "autoexec": {
            "startup": false,
            "wait_interval": 0
          }
        }
      },
      "cell_type": "code",
      "source": [
        ""
      ],
      "execution_count": 0,
      "outputs": []
    },
    {
      "metadata": {
        "id": "qQc2S6UwXdiO",
        "colab_type": "code",
        "colab": {
          "autoexec": {
            "startup": false,
            "wait_interval": 0
          }
        }
      },
      "cell_type": "code",
      "source": [
        ""
      ],
      "execution_count": 0,
      "outputs": []
    }
  ]
}